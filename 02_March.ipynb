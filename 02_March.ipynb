{
 "cells": [
  {
   "cell_type": "code",
   "execution_count": 2,
   "id": "2a03ec0a-d680-4da1-8649-197e9431b054",
   "metadata": {},
   "outputs": [
    {
     "ename": "SyntaxError",
     "evalue": "invalid syntax (1676026714.py, line 1)",
     "output_type": "error",
     "traceback": [
      "\u001b[0;36m  Cell \u001b[0;32mIn[2], line 1\u001b[0;36m\u001b[0m\n\u001b[0;31m    Q1: What is Matplotlib? Why is it used? Name five plots that can be plotted using the Pyplot module of\u001b[0m\n\u001b[0m                          ^\u001b[0m\n\u001b[0;31mSyntaxError\u001b[0m\u001b[0;31m:\u001b[0m invalid syntax\n"
     ]
    }
   ],
   "source": [
    "Q1: What is Matplotlib? Why is it used? Name five plots that can be plotted using the Pyplot module of\n",
    "Matplotlib."
   ]
  },
  {
   "cell_type": "code",
   "execution_count": 3,
   "id": "1573b712-7ca6-4938-8826-277f761a1813",
   "metadata": {},
   "outputs": [
    {
     "ename": "SyntaxError",
     "evalue": "invalid syntax (1067003643.py, line 1)",
     "output_type": "error",
     "traceback": [
      "\u001b[0;36m  Cell \u001b[0;32mIn[3], line 1\u001b[0;36m\u001b[0m\n\u001b[0;31m    Matplotlib is a comprehensive library for creating static, animated, and interactive visualizations in Python.\u001b[0m\n\u001b[0m                    ^\u001b[0m\n\u001b[0;31mSyntaxError\u001b[0m\u001b[0;31m:\u001b[0m invalid syntax\n"
     ]
    }
   ],
   "source": [
    "Matplotlib is a comprehensive library for creating static, animated, and interactive visualizations in Python.\n",
    "Matplotlib makes easy things easy and hard things possible. Create publication quality plots.\n",
    "\n",
    "\n",
    "Line Plot\n",
    "Bar Plot\n",
    "Scatter Plot\n",
    "Pie Plot\n",
    "Area Plot\n",
    "Histogram Plot"
   ]
  },
  {
   "cell_type": "code",
   "execution_count": 4,
   "id": "518425c8-f765-4a36-a1a2-7bacea1dfef6",
   "metadata": {},
   "outputs": [],
   "source": [
    "import matplotlib.pyplot as plt\n",
    "import numpy as np"
   ]
  },
  {
   "cell_type": "code",
   "execution_count": 5,
   "id": "0faea187-6d5c-45c9-9c5a-77603c862f6e",
   "metadata": {},
   "outputs": [
    {
     "ename": "SyntaxError",
     "evalue": "invalid syntax (865256826.py, line 1)",
     "output_type": "error",
     "traceback": [
      "\u001b[0;36m  Cell \u001b[0;32mIn[5], line 1\u001b[0;36m\u001b[0m\n\u001b[0;31m    Q2: What is a scatter plot? Use the following code to generate data for x and y. Using this generated data\u001b[0m\n\u001b[0m                  ^\u001b[0m\n\u001b[0;31mSyntaxError\u001b[0m\u001b[0;31m:\u001b[0m invalid syntax\n"
     ]
    }
   ],
   "source": [
    "Q2: What is a scatter plot? Use the following code to generate data for x and y. Using this generated data\n",
    "plot a scatter plot.\n",
    "import numpy as np\n",
    "np.random.seed(3)\n",
    "x = 3 + np.random.normal(0, 2, 50)\n",
    "y = 3 + np.random.normal(0, 2, len(x))\n",
    "Note: Also add title, xlabel, and ylabel to the plot."
   ]
  },
  {
   "cell_type": "code",
   "execution_count": null,
   "id": "e143639c-313f-4b9e-a8bb-1e5cbcd7d582",
   "metadata": {},
   "outputs": [],
   "source": [
    "import numpy as np\n",
    "np.random.seed(3)\n",
    "x = 3 + np.random.normal(0, 2, 50)\n",
    "y = 3 + np.random.normal(0, 2, len(x))"
   ]
  },
  {
   "cell_type": "code",
   "execution_count": null,
   "id": "368a3d79-7816-4478-8ae4-78d7008a8664",
   "metadata": {},
   "outputs": [],
   "source": [
    "plt.xlabel(\"This is X Axis\")\n",
    "plt.ylabel(\"This is Y Axis\")\n",
    "plt.title(\"PwSkills\")\n",
    "plt.scatter(x,y)\n",
    "plt.figure(figsize=(10,20))"
   ]
  },
  {
   "cell_type": "code",
   "execution_count": 6,
   "id": "d65bbc8b-f0b8-40eb-827a-ce5fa8267c49",
   "metadata": {},
   "outputs": [
    {
     "ename": "SyntaxError",
     "evalue": "invalid syntax (4125774884.py, line 1)",
     "output_type": "error",
     "traceback": [
      "\u001b[0;36m  Cell \u001b[0;32mIn[6], line 1\u001b[0;36m\u001b[0m\n\u001b[0;31m    Q3: Why is the subplot() function used? Draw four line plots using the subplot() function.\u001b[0m\n\u001b[0m                   ^\u001b[0m\n\u001b[0;31mSyntaxError\u001b[0m\u001b[0;31m:\u001b[0m invalid syntax\n"
     ]
    }
   ],
   "source": [
    "Q3: Why is the subplot() function used? Draw four line plots using the subplot() function.\n",
    "Use the following data:\n",
    "import numpy as np\n",
    "For line 1: x = np.array([0, 1, 2, 3, 4, 5]) and y = np.array([0, 100, 200, 300, 400, 500])\n",
    "For line 2: x = np.array([0, 1, 2, 3, 4, 5]) and y = np.array([50, 20, 40, 20, 60, 70])\n",
    "For line 3: x = np.array([0, 1, 2, 3, 4, 5]) and y = np.array([10, 20, 30, 40, 50, 60])\n",
    "For line 4: x = np.array([0, 1, 2, 3, 4, 5]) and y = np.array([200, 350, 250, 550, 450, 150])"
   ]
  },
  {
   "cell_type": "code",
   "execution_count": 7,
   "id": "9a383e20-ab5b-4896-9675-9514f5dd928f",
   "metadata": {},
   "outputs": [],
   "source": [
    "x = np.array([0, 1, 2, 3, 4, 5]) \n",
    "y = np.array([0, 100, 200, 300, 400, 500])\n",
    "\n",
    "x = np.array([0, 1, 2, 3, 4, 5]) \n",
    "y = np.array([50, 20, 40, 20, 60, 70])\n",
    "\n",
    "x = np.array([0, 1, 2, 3, 4, 5]) \n",
    "y = np.array([10, 20, 30, 40, 50, 60])\n",
    "\n",
    "x = np.array([0, 1, 2, 3, 4, 5]) \n",
    "y = np.array([200, 350, 250, 550, 450, 150])"
   ]
  },
  {
   "cell_type": "code",
   "execution_count": 8,
   "id": "439792d8-5226-40c3-a07d-3a8ff37c40c3",
   "metadata": {},
   "outputs": [
    {
     "ename": "NameError",
     "evalue": "name 'x1' is not defined",
     "output_type": "error",
     "traceback": [
      "\u001b[0;31m---------------------------------------------------------------------------\u001b[0m",
      "\u001b[0;31mNameError\u001b[0m                                 Traceback (most recent call last)",
      "Cell \u001b[0;32mIn[8], line 4\u001b[0m\n\u001b[1;32m      1\u001b[0m fig, axs \u001b[38;5;241m=\u001b[39m plt\u001b[38;5;241m.\u001b[39msubplots(\u001b[38;5;241m2\u001b[39m, \u001b[38;5;241m2\u001b[39m)\n\u001b[1;32m      3\u001b[0m \u001b[38;5;66;03m# Plot the data on the subplots\u001b[39;00m\n\u001b[0;32m----> 4\u001b[0m axs[\u001b[38;5;241m0\u001b[39m, \u001b[38;5;241m0\u001b[39m]\u001b[38;5;241m.\u001b[39mplot(\u001b[43mx1\u001b[49m, y1)\n\u001b[1;32m      5\u001b[0m axs[\u001b[38;5;241m0\u001b[39m, \u001b[38;5;241m1\u001b[39m]\u001b[38;5;241m.\u001b[39mplot(x2, y2)\n\u001b[1;32m      6\u001b[0m axs[\u001b[38;5;241m1\u001b[39m, \u001b[38;5;241m0\u001b[39m]\u001b[38;5;241m.\u001b[39mplot(x3, y3)\n",
      "\u001b[0;31mNameError\u001b[0m: name 'x1' is not defined"
     ]
    },
    {
     "data": {
      "image/png": "[encoded data removed]",
      "text/plain": [
       "<Figure size 640x480 with 4 Axes>"
      ]
     },
     "metadata": {},
     "output_type": "display_data"
    }
   ],
   "source": [
    "fig, axs = plt.subplots(2, 2)\n",
    "\n",
    "# Plot the data on the subplots\n",
    "axs[0, 0].plot(x1, y1)\n",
    "axs[0, 1].plot(x2, y2)\n",
    "axs[1, 0].plot(x3, y3)\n",
    "axs[1, 1].plot(x4, y4)\n",
    "\n",
    "# Add titles to the subplots\n",
    "axs[0, 0].set_title('Line 1')\n",
    "axs[0, 1].set_title('Line 2')\n",
    "axs[1, 0].set_title('Line 3')\n",
    "axs[1, 1].set_title('Line 4')"
   ]
  },
  {
   "cell_type": "code",
   "execution_count": null,
   "id": "934dcc3d-bd21-4005-9b0e-9f64a1f7a75d",
   "metadata": {},
   "outputs": [],
   "source": [
    "Q4: What is a bar plot? Why is it used? Using the following data plot a bar plot and a horizontal bar plot.\n",
    "import numpy as np\n",
    "company = np.array([\"Apple\", \"Microsoft\", \"Google\", \"AMD\"])\n",
    "profit = np.array([3000, 8000, 1000, 10000])"
   ]
  },
  {
   "cell_type": "code",
   "execution_count": null,
   "id": "7df79399-4505-43d8-90d0-44229ae7b6b5",
   "metadata": {},
   "outputs": [],
   "source": [
    "Bar plots are a type of data visualization used to represent data in the form of rectangular bars. The height of each bar represents the value of a data point,\n",
    "and the width of each bar represents the category of the data"
   ]
  },
  {
   "cell_type": "code",
   "execution_count": 9,
   "id": "66633185-f929-4ec3-926c-2c9677406c33",
   "metadata": {},
   "outputs": [],
   "source": [
    "import numpy as np\n",
    "company = np.array([\"Apple\", \"Microsoft\", \"Google\", \"AMD\"])\n",
    "profit = np.array([3000, 8000, 1000, 10000])"
   ]
  },
  {
   "cell_type": "code",
   "execution_count": 10,
   "id": "ec180c70-2324-4735-afe4-a19949588006",
   "metadata": {},
   "outputs": [
    {
     "data": {
      "image/png": "[encoded data removed]",
      "text/plain": [
       "<Figure size 600x200 with 1 Axes>"
      ]
     },
     "metadata": {},
     "output_type": "display_data"
    }
   ],
   "source": [
    "plt.figure(figsize=(6,2))\n",
    "plt.bar(company,profit)\n",
    "plt.show()"
   ]
  },
  {
   "cell_type": "code",
   "execution_count": 11,
   "id": "d1a721d9-e224-440d-be94-098f91b24cf4",
   "metadata": {},
   "outputs": [
    {
     "data": {
      "image/png": "[encoded data removed]",
      "text/plain": [
       "<Figure size 600x200 with 1 Axes>"
      ]
     },
     "metadata": {},
     "output_type": "display_data"
    }
   ],
   "source": [
    "plt.figure(figsize=(6,2))\n",
    "plt.barh(company,profit)\n",
    "plt.show()"
   ]
  },
  {
   "cell_type": "code",
   "execution_count": 12,
   "id": "2166be87-343f-495e-a2fa-bd2b8dddd814",
   "metadata": {},
   "outputs": [
    {
     "ename": "SyntaxError",
     "evalue": "invalid syntax (578935485.py, line 1)",
     "output_type": "error",
     "traceback": [
      "\u001b[0;36m  Cell \u001b[0;32mIn[12], line 1\u001b[0;36m\u001b[0m\n\u001b[0;31m    Q5: What is a box plot? Why is it used? Using the following data plot a box plot.\u001b[0m\n\u001b[0m                  ^\u001b[0m\n\u001b[0;31mSyntaxError\u001b[0m\u001b[0;31m:\u001b[0m invalid syntax\n"
     ]
    }
   ],
   "source": [
    "Q5: What is a box plot? Why is it used? Using the following data plot a box plot.\n",
    "box1 = np.random.normal(100, 10, 200)\n",
    "box2 = np.random.normal(90, 20, 200)\n"
   ]
  },
  {
   "cell_type": "code",
   "execution_count": 17,
   "id": "4d5fca31-3171-467a-a550-5b07dbc0a95b",
   "metadata": {},
   "outputs": [],
   "source": [
    "box1 = np.random.normal(100, 10, 200)\n",
    "box2 = np.random.normal(90, 20, 200)"
   ]
  },
  {
   "cell_type": "code",
   "execution_count": 21,
   "id": "75128bdc-1ecd-409f-a328-6590270084b0",
   "metadata": {},
   "outputs": [
    {
     "data": {
      "image/png": "[encoded data removed]",
      "text/plain": [
       "<Figure size 640x480 with 1 Axes>"
      ]
     },
     "metadata": {},
     "output_type": "display_data"
    }
   ],
   "source": [
    "data = [box1,box2]\n",
    "plt.boxplot(data)\n",
    "plt.xlabel(\"This is x Axis\")\n",
    "plt.ylabel(\"This is Y axis\")\n",
    "plt.show()"
   ]
  },
  {
   "cell_type": "code",
   "execution_count": null,
   "id": "99c00247-f495-4c09-8d9d-209eb83f7ee3",
   "metadata": {},
   "outputs": [],
   "source": []
  },
  {
   "cell_type": "code",
   "execution_count": null,
   "id": "2297ca7f-784c-4bf7-ae72-06f6b5e78660",
   "metadata": {},
   "outputs": [],
   "source": []
  }
 ],
 "metadata": {
  "kernelspec": {
   "display_name": "Python 3 (ipykernel)",
   "language": "python",
   "name": "python3"
  },
  "language_info": {
   "codemirror_mode": {
    "name": "ipython",
    "version": 3
   },
   "file_extension": ".py",
   "mimetype": "text/x-python",
   "name": "python",
   "nbconvert_exporter": "python",
   "pygments_lexer": "ipython3",
   "version": "3.10.8"
  }
 },
 "nbformat": 4,
 "nbformat_minor": 5
}
