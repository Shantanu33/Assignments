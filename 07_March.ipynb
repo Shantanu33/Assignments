{
 "cells": [
  {
   "cell_type": "code",
   "execution_count": null,
   "id": "65389105-9ea3-440e-a183-f6552698ede7",
   "metadata": {},
   "outputs": [],
   "source": [
    "Q1. What are the three measures of central tendency?"
   ]
  },
  {
   "cell_type": "code",
   "execution_count": null,
   "id": "29fbfdc0-f22f-4140-9120-d88b6e58a9fb",
   "metadata": {},
   "outputs": [],
   "source": [
    "Ans:: Mean ,Median,Mode"
   ]
  },
  {
   "cell_type": "code",
   "execution_count": null,
   "id": "5e78f726-0ec2-4e63-a80e-1af6e9cede79",
   "metadata": {},
   "outputs": [],
   "source": [
    "Q2. What is the difference between the mean, median, and mode? How are they used to measure the\n",
    "central tendency of a dataset?"
   ]
  },
  {
   "cell_type": "code",
   "execution_count": null,
   "id": "3dd12972-c037-46d1-8703-82a1b40d6c32",
   "metadata": {},
   "outputs": [],
   "source": [
    "Ans:: The mean is the sum of all the values in a dataset divided by the total number of values.\n",
    "It is the most commonly used measure of central tendency and is sensitive to outliers \n",
    "\n",
    "The median is the middle value in a dataset when the values are arranged in order.\n",
    "It is less sensitive to outliers than the mean because it is only influenced by the values in the middle of the dataset\n",
    "\n",
    "The mode is the value that occurs most frequently in a dataset. \n",
    "It is used to identify the most common value in a dataset, and is not influenced by outliers."
   ]
  },
  {
   "cell_type": "code",
   "execution_count": null,
   "id": "dd8d6268-c11e-4e2d-8003-e2e0903b8591",
   "metadata": {},
   "outputs": [],
   "source": [
    "Q3. Measure the three measures of central tendency for the given height data:\n",
    "[178,177,176,177,178.2,178,175,179,180,175,178.9,176.2,177,172.5,178,176.5]"
   ]
  },
  {
   "cell_type": "code",
   "execution_count": null,
   "id": "758a8e2f-7f6a-4f24-8bde-a664ccef08a3",
   "metadata": {},
   "outputs": [],
   "source": [
    "Ans:: Mean = (172.5 + 175 + 175 + 176 + 176.2 + 176.5 + 177 + 177 + 178 + 178 + 178 + 178.2 + 178.9 + 179 + 180) / 15\n",
    "           Mean = 176.8\n",
    "    Median = (176.5 + 177) / 2\n",
    "    Median = 176.75\n",
    "    \n",
    "    Mode = 178"
   ]
  },
  {
   "cell_type": "code",
   "execution_count": null,
   "id": "e5ff57f7-624d-4441-8bd4-deda58eeb078",
   "metadata": {},
   "outputs": [],
   "source": [
    "Q4. Find the standard deviation for the given data:\n",
    "[178,177,176,177,178.2,178,175,179,180,175,178.9,176.2,177,172.5,178,176.5]"
   ]
  },
  {
   "cell_type": "code",
   "execution_count": null,
   "id": "c1be1dc0-e9af-404e-b841-7c02043d6a37",
   "metadata": {},
   "outputs": [],
   "source": [
    "Standard deviation = sqrt(sum of (each value - mean)^2 / number of values)\n",
    "Standard deviation = sqrt(214.34 / 16)\n",
    "Standard deviation = 1.77"
   ]
  },
  {
   "cell_type": "code",
   "execution_count": null,
   "id": "741cd261-4478-4380-af62-a99ff92e7b38",
   "metadata": {},
   "outputs": [],
   "source": [
    "Q5. How are measures of dispersion such as range, variance, and standard deviation used to describe\n",
    "the spread of a dataset? Provide an example."
   ]
  },
  {
   "cell_type": "code",
   "execution_count": null,
   "id": "8a2ebc62-77ad-4a37-916b-8449163dbc44",
   "metadata": {},
   "outputs": [],
   "source": [
    "The range is the difference between the highest and lowest values in a dataset, and it provides a simple measure of the spread of the data.\n",
    "\n",
    "The variance is the average of the squared differences between each value and the mean of the dataset. It measures how far the data is spread out from the mean.\n",
    "A high variance indicates that the data is more spread out, while a low variance indicates that the data is more clustered around the mean.\n",
    "\n",
    "The standard deviation is the square root of the variance and provides a measure of the typical distance that values deviate from the mean."
   ]
  },
  {
   "cell_type": "code",
   "execution_count": null,
   "id": "be77d994-8fb9-44d6-a3ad-c57405ac2e54",
   "metadata": {},
   "outputs": [],
   "source": [
    "Q6. What is a Venn diagram?"
   ]
  },
  {
   "cell_type": "code",
   "execution_count": null,
   "id": "3ea7377d-7669-48f9-a473-2f0ae8621540",
   "metadata": {},
   "outputs": [],
   "source": [
    "Venn diagrams are commonly used in mathematics, logic, and statistics to visually illustrate the relationships between sets,\n",
    "and to solve problems involving set operations such as union, intersection, and complement. "
   ]
  },
  {
   "cell_type": "code",
   "execution_count": null,
   "id": "55bfe641-a30c-4a61-94be-bd128da7581e",
   "metadata": {},
   "outputs": [],
   "source": [
    "Q7. For the two given sets A = (2,3,4,5,6,7) & B = (0,2,6,8,10). Find:\n",
    "(i) A B\n",
    "(ii) A ⋃ B"
   ]
  },
  {
   "cell_type": "code",
   "execution_count": null,
   "id": "514903cf-104e-4f85-bbe7-09ab1e882540",
   "metadata": {},
   "outputs": [],
   "source": [
    "A ∩ B = {2, 6}.\n",
    "A ⋃ B = {0, 2, 3, 4, 5, 6, 7, 8, 10}."
   ]
  },
  {
   "cell_type": "code",
   "execution_count": null,
   "id": "e7ef1363-09a6-4f0b-8784-d39ccfe0815b",
   "metadata": {},
   "outputs": [],
   "source": [
    "Q8. What do you understand about skewness in data?"
   ]
  },
  {
   "cell_type": "code",
   "execution_count": null,
   "id": "3cd7fbd7-765c-4807-8330-fb27c193de96",
   "metadata": {},
   "outputs": [],
   "source": [
    "Skewness is a statistical measure that describes the degree of asymmetry in a distribution of data. \n",
    "A distribution is considered to be symmetric if the two halves of the distribution are mirror images of each other. \n",
    "\n",
    "Skewness can be either positive or negative, depending on the direction of the skew. \n",
    "Positive skewness means that the tail of the distribution is longer on the right-hand side than on the left-hand side,\n",
    "indicating that there are more extreme values on the right-hand side of the distribution.\n",
    "Negative skewness means that the tail of the distribution is longer on the left-hand side than on the right-hand side, \n",
    "indicating that there are more extreme values on the left-hand side of the distribution."
   ]
  },
  {
   "cell_type": "code",
   "execution_count": null,
   "id": "df8c04ee-2904-4824-b741-959102a1a21d",
   "metadata": {},
   "outputs": [],
   "source": [
    "Q9. If a data is right skewed then what will be the position of median with respect to mean?"
   ]
  },
  {
   "cell_type": "code",
   "execution_count": null,
   "id": "2013d3e3-624d-4a9b-8e14-0c7d567f904e",
   "metadata": {},
   "outputs": [],
   "source": [
    "If a dataset is right-skewed, then the tail of the distribution is longer on the right-hand side,\n",
    "indicating that there are more extreme values on the right-hand side of the distribution. \n",
    "In a right-skewed distribution, the mean will be greater than the median."
   ]
  },
  {
   "cell_type": "code",
   "execution_count": null,
   "id": "42e28223-86f5-4c71-bdee-f46af7fa12c1",
   "metadata": {},
   "outputs": [],
   "source": [
    "Q10. Explain the difference between covariance and correlation. How are these measures used in\n",
    "statistical analysis?"
   ]
  },
  {
   "cell_type": "code",
   "execution_count": null,
   "id": "d2d5307f-4af9-4392-96e9-a6996cc4baf4",
   "metadata": {},
   "outputs": [],
   "source": [
    "covariance and correlation are both measures of the relationship between two variables in a dataset, but they differ in their scale and interpretation. \n",
    "While covariance measures the degree to which two variables vary together,\n",
    "correlation measures the strength and direction of the linear relationship between two variables on a standardized scale.\n",
    "Correlation is often preferred over covariance in statistical analysis because it is a standardized measure that is not affected by the scale of the variables and is more interpretable."
   ]
  },
  {
   "cell_type": "code",
   "execution_count": null,
   "id": "20d90460-b324-4505-ba17-ced425338767",
   "metadata": {},
   "outputs": [],
   "source": [
    "Q11. What is the formula for calculating the sample mean? Provide an example calculation for a\n",
    "dataset."
   ]
  },
  {
   "cell_type": "code",
   "execution_count": null,
   "id": "d2fd4d08-fe82-4af6-8387-594b424d2de6",
   "metadata": {},
   "outputs": [],
   "source": [
    "Sample mean = (sum of all values in the sample) / (number of values in the sample)\n",
    "{85, 92, 76, 89, 94, 82, 90, 88, 81, 85}\n",
    "Sample mean = 850 / 10 = 85"
   ]
  },
  {
   "cell_type": "code",
   "execution_count": null,
   "id": "90a95a95-e2f0-4148-831a-49fc0fd71d2e",
   "metadata": {},
   "outputs": [],
   "source": [
    "Q12. For a normal distribution data what is the relationship between its measure of central tendency?"
   ]
  },
  {
   "cell_type": "code",
   "execution_count": null,
   "id": "cbf23be5-c1b4-4448-ba97-d526f8728a63",
   "metadata": {},
   "outputs": [],
   "source": [
    "In a normal distribution, the mean represents the center of the distribution, the median also represents the center of the distribution,\n",
    "and the mode represents the most frequent value in the distribution. \n",
    "In a perfectly symmetrical normal distribution, all three measures will be the same."
   ]
  },
  {
   "cell_type": "code",
   "execution_count": null,
   "id": "8c3ce8f7-2e1b-41a8-b4f5-452f4e658873",
   "metadata": {},
   "outputs": [],
   "source": [
    "Q13. How is covariance different from correlation?"
   ]
  },
  {
   "cell_type": "code",
   "execution_count": null,
   "id": "2988d840-5562-4e05-826f-fa855b5eae4c",
   "metadata": {},
   "outputs": [],
   "source": [
    "The main difference between covariance and correlation is that covariance is affected by the scale of the variables, while correlation is not. \n",
    "This means that covariance can take on any value, and its magnitude depends on the units of the variables being measured.\n",
    "In contrast, correlation is a standardized measure that is not affected by the scale of the variables, making it easier to compare the strength of the relationship between different pairs of variables."
   ]
  },
  {
   "cell_type": "code",
   "execution_count": null,
   "id": "b67c1a62-c961-4745-a662-d777efdd9a6e",
   "metadata": {},
   "outputs": [],
   "source": [
    "Q14. How do outliers affect measures of central tendency and dispersion? Provide an example."
   ]
  },
  {
   "cell_type": "code",
   "execution_count": null,
   "id": "2c5dd5e9-621b-43eb-ab5a-2a1e8f75d7bd",
   "metadata": {},
   "outputs": [],
   "source": [
    "Measures of central tendency, such as the mean and median, are sensitive to outliers. \n",
    "Outliers can pull the mean away from the bulk of the data, making it an inaccurate representation of the typical value in the dataset. \n",
    "The median is less sensitive to outliers, as it represents the middle value in the dataset and is not affected by extreme values.\n",
    "However, if an outlier is at the exact midpoint of the dataset, it can significantly affect the median as well."
   ]
  },
  {
   "cell_type": "code",
   "execution_count": null,
   "id": "35f6e1fe-7fa9-4184-bfa2-86804e7d3ec0",
   "metadata": {},
   "outputs": [],
   "source": []
  },
  {
   "cell_type": "code",
   "execution_count": null,
   "id": "f4b866e4-be65-424e-b6be-3751d665472b",
   "metadata": {},
   "outputs": [],
   "source": []
  },
  {
   "cell_type": "code",
   "execution_count": null,
   "id": "43465742-8c3f-4640-b4b3-9d5690dd6703",
   "metadata": {},
   "outputs": [],
   "source": []
  }
 ],
 "metadata": {
  "kernelspec": {
   "display_name": "Python 3 (ipykernel)",
   "language": "python",
   "name": "python3"
  },
  "language_info": {
   "codemirror_mode": {
    "name": "ipython",
    "version": 3
   },
   "file_extension": ".py",
   "mimetype": "text/x-python",
   "name": "python",
   "nbconvert_exporter": "python",
   "pygments_lexer": "ipython3",
   "version": "3.10.8"
  }
 },
 "nbformat": 4,
 "nbformat_minor": 5
}
