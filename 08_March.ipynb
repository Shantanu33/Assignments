{
 "cells": [
  {
   "cell_type": "code",
   "execution_count": null,
   "id": "cda5fa6b-5aaa-4819-8a38-cf4dd43a6c90",
   "metadata": {},
   "outputs": [],
   "source": [
    "Q1. What is the Probability density function?"
   ]
  },
  {
   "cell_type": "code",
   "execution_count": null,
   "id": "75ffb6a4-2e8b-4917-90fe-b28b142e944b",
   "metadata": {},
   "outputs": [],
   "source": [
    "The Probability Density Function (PDF) is a mathematical function that describes the likelihood of a random variable taking on a certain value or set of values.\n",
    "Specifically,for continuous random variables, \n",
    "the PDF defines the probability distribution of the variable over a range of possible values."
   ]
  },
  {
   "cell_type": "code",
   "execution_count": null,
   "id": "576474e5-e9a9-402a-8d52-0fcee595fdb3",
   "metadata": {},
   "outputs": [],
   "source": [
    "Q2. What are the types of Probability distribution?"
   ]
  },
  {
   "cell_type": "code",
   "execution_count": null,
   "id": "a1c767d4-664d-457d-a631-8b53fd5bd4e7",
   "metadata": {},
   "outputs": [],
   "source": [
    "Bernoulli Distribution\n",
    "Binomial Distribution\n",
    "Poisson Distribution\n",
    "uniform distribution\n",
    "Normal Distribution"
   ]
  },
  {
   "cell_type": "code",
   "execution_count": null,
   "id": "6d568a1b-65d7-41b5-8ad9-e015292e9af1",
   "metadata": {},
   "outputs": [],
   "source": [
    "Q3. Write a Python function to calculate the probability density function of a normal distribution with\n",
    "given mean and standard deviation at a given point."
   ]
  },
  {
   "cell_type": "code",
   "execution_count": 2,
   "id": "0eb6ccb1-041e-4200-ae55-1d81df44de71",
   "metadata": {},
   "outputs": [],
   "source": [
    "import math\n",
    "\n",
    "def normal_pdf(x, mean, sd):\n",
    "    \"\"\"Calculate the PDF of a normal distribution with given mean and standard deviation at a given point\"\"\"\n",
    "    exponent = math.exp(-((x - mean) ** 2) / (2 * sd ** 2))\n",
    "    return (1 / (sd * math.sqrt(2 * math.pi))) * exponent"
   ]
  },
  {
   "cell_type": "code",
   "execution_count": 3,
   "id": "560bd3da-520f-436a-8d2c-5cf62ecc4784",
   "metadata": {},
   "outputs": [
    {
     "data": {
      "text/plain": [
       "0.05399096651318806"
      ]
     },
     "execution_count": 3,
     "metadata": {},
     "output_type": "execute_result"
    }
   ],
   "source": [
    "normal_pdf(2, 0, 1)"
   ]
  },
  {
   "cell_type": "code",
   "execution_count": null,
   "id": "06b56954-4a61-43af-adf3-4976423f2d9e",
   "metadata": {},
   "outputs": [],
   "source": [
    "Q4. What are the properties of Binomial distribution? Give two examples of events where binomial\n",
    "distribution can be applied."
   ]
  },
  {
   "cell_type": "code",
   "execution_count": null,
   "id": "328c2599-31b5-4c55-814a-adee2ed93d45",
   "metadata": {},
   "outputs": [],
   "source": [
    "The probability of success (p) and failure (1-p) are constant across all trials.\n",
    "The trials are independent of each other.\n",
    "The distribution is discrete, with possible outcomes ranging from 0 to the total number of trials (n).\n",
    "The mean of the distribution is np, and the variance is np(1-p).\n",
    "\n",
    "Example: A coin toss, Student Pass or Fail"
   ]
  },
  {
   "cell_type": "code",
   "execution_count": null,
   "id": "965edbab-43e3-4cea-96c3-eaabd85e9b86",
   "metadata": {},
   "outputs": [],
   "source": [
    "Q5. Generate a random sample of size 1000 from a binomial distribution with probability of success 0.4\n",
    "and plot a histogram of the results using matplotlib."
   ]
  },
  {
   "cell_type": "code",
   "execution_count": 18,
   "id": "ba3ae843-ff09-489d-8f99-66204ee55675",
   "metadata": {},
   "outputs": [
    {
     "data": {
      "image/png": "[encoded data removed]",
      "text/plain": [
       "<Figure size 640x480 with 1 Axes>"
      ]
     },
     "metadata": {},
     "output_type": "display_data"
    }
   ],
   "source": [
    "import matplotlib.pyplot as plt\n",
    "import numpy as np\n",
    "df = np.random.binomial(n=1,p=0.4,size=1000)\n",
    "plt.hist(df)\n",
    "plt.xlabel(\"Probability\")\n",
    "plt.ylabel('Frequency')\n",
    "plt.title('Histogram')\n",
    "plt.show()"
   ]
  },
  {
   "cell_type": "code",
   "execution_count": null,
   "id": "03daf66d-0cfe-4a88-bd52-c4e25ee862a6",
   "metadata": {},
   "outputs": [],
   "source": [
    "Q6. Write a Python function to calculate the cumulative distribution function of a Poisson distribution\n",
    "with given mean at a given point."
   ]
  },
  {
   "cell_type": "code",
   "execution_count": 19,
   "id": "f38aa8de-e382-48a7-8b6a-4d56f66b2d61",
   "metadata": {},
   "outputs": [],
   "source": [
    "import math\n",
    "\n",
    "def poisson_cdf(x, mean):\n",
    "    \"\"\"Calculate the CDF of a Poisson distribution with given mean at a given point\"\"\"\n",
    "    cdf = 0\n",
    "    for i in range(x + 1):\n",
    "        cdf += (mean ** i / math.factorial(i)) * math.exp(-mean)\n",
    "    return cdf"
   ]
  },
  {
   "cell_type": "code",
   "execution_count": 20,
   "id": "7efac5ad-70c5-4f7d-9b48-aa2dc569d0a7",
   "metadata": {},
   "outputs": [
    {
     "data": {
      "text/plain": [
       "0.7575761331330659"
      ]
     },
     "execution_count": 20,
     "metadata": {},
     "output_type": "execute_result"
    }
   ],
   "source": [
    "poisson_cdf(3,2.5)"
   ]
  },
  {
   "cell_type": "code",
   "execution_count": null,
   "id": "0592143f-e7ea-4cbf-8694-428323bf9b53",
   "metadata": {},
   "outputs": [],
   "source": [
    "Q7. How Binomial distribution different from Poisson distribution?"
   ]
  },
  {
   "cell_type": "code",
   "execution_count": null,
   "id": "9e8d25c3-db20-4c56-b89a-431b016de474",
   "metadata": {},
   "outputs": [],
   "source": [
    "The Binomial distribution describes the probability of a certain number of successes in a fixed number of independent trials,\n",
    "while the Poisson distribution describes the probability of a certain number of events occurring in a fixed time period or space, regardless of the number of trials."
   ]
  },
  {
   "cell_type": "code",
   "execution_count": null,
   "id": "25a787c2-d412-4cd1-ae92-5194274fb86d",
   "metadata": {},
   "outputs": [],
   "source": [
    "Q8. Generate a random sample of size 1000 from a Poisson distribution with mean 5 and calculate the\n",
    "sample mean and variance."
   ]
  },
  {
   "cell_type": "code",
   "execution_count": 24,
   "id": "b7578305-4bde-4a99-9bea-f992f14af172",
   "metadata": {},
   "outputs": [
    {
     "name": "stdout",
     "output_type": "stream",
     "text": [
      "0.976 1.0154239999999999\n"
     ]
    }
   ],
   "source": [
    "x=np.random.poisson(size=1000)\n",
    "sample_mean = np.mean(x)\n",
    "sample_var = np.var(x)\n",
    "print(sample_mean,sample_var)"
   ]
  },
  {
   "cell_type": "code",
   "execution_count": null,
   "id": "b20601d7-48e0-4d4d-a1ec-53401c66fd90",
   "metadata": {},
   "outputs": [],
   "source": [
    "Q9. How mean and variance are related in Binomial distribution and Poisson distribution?"
   ]
  },
  {
   "cell_type": "code",
   "execution_count": null,
   "id": "a3fb29ef-661e-4590-aeb1-97ac03e1e7b1",
   "metadata": {},
   "outputs": [],
   "source": [
    "In the Binomial distribution, the mean and variance are related as follows:\n",
    "\n",
    "Mean = n * p, where n is the number of trials and p is the probability of success in each trial.\n",
    "Variance = n * p * (1 - p)\n",
    "\n",
    "In the Poisson distribution, the mean and variance are also related:\n",
    "\n",
    "Mean = Variance "
   ]
  },
  {
   "cell_type": "code",
   "execution_count": null,
   "id": "5b2b49bb-6e3f-4b2e-99ca-77e42dc630db",
   "metadata": {},
   "outputs": [],
   "source": []
  },
  {
   "cell_type": "code",
   "execution_count": null,
   "id": "d4ad7638-bccd-48b6-8a9d-726b75bf2454",
   "metadata": {},
   "outputs": [],
   "source": []
  }
 ],
 "metadata": {
  "kernelspec": {
   "display_name": "Python 3 (ipykernel)",
   "language": "python",
   "name": "python3"
  },
  "language_info": {
   "codemirror_mode": {
    "name": "ipython",
    "version": 3
   },
   "file_extension": ".py",
   "mimetype": "text/x-python",
   "name": "python",
   "nbconvert_exporter": "python",
   "pygments_lexer": "ipython3",
   "version": "3.10.8"
  }
 },
 "nbformat": 4,
 "nbformat_minor": 5
}
