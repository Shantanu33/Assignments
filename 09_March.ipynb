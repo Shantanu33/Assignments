{
 "cells": [
  {
   "cell_type": "code",
   "execution_count": null,
   "id": "68bc3b90-9bd8-4e70-b2e2-f60e0b6c513b",
   "metadata": {},
   "outputs": [],
   "source": [
    "Q1: What are the Probability Mass Function (PMF) and Probability Density Function (PDF)? Explain with\n",
    "an example."
   ]
  },
  {
   "cell_type": "code",
   "execution_count": null,
   "id": "d380d013-3c9d-4275-802b-d184391b412b",
   "metadata": {},
   "outputs": [],
   "source": [
    "The PMF is a function that describes the probability distribution of a discrete random variable,\n",
    "which is a random variable that can only take on a finite or countably infinite number of distinct values\n",
    "\n",
    "PMF(x) = 1/6 for x = 1, 2, 3, 4, 5, or 6\n",
    "\n",
    "This means that the probability of rolling a 1, 2, 3, 4, 5, or 6 on a fair six-sided die is each 1/6.\n",
    "\n",
    "\n",
    " PDF is a function that describes the probability distribution of a continuous random variable,\n",
    "which is a random variable that can take on any value in a continuous range\n",
    "PDF(x) = (1/sqrt(2*pi)) * exp(-x^2/2)"
   ]
  },
  {
   "cell_type": "code",
   "execution_count": null,
   "id": "75ca664c-18ef-4aa4-8a28-e58763e25e1f",
   "metadata": {},
   "outputs": [],
   "source": [
    "Q2: What is Cumulative Density Function (CDF)? Explain with an example. Why CDF is used?"
   ]
  },
  {
   "cell_type": "code",
   "execution_count": null,
   "id": "00cb1eba-cdd7-4829-83f1-891b803fec52",
   "metadata": {},
   "outputs": [],
   "source": [
    "The Cumulative Distribution Function (CDF) is a mathematical function that describes the probability that a random variable takes on a value less than or equal to a specific value. \n",
    "In other words, the CDF gives the cumulative probability distribution of a random variable.\n",
    "\n",
    "CDF can be used to calculate the probability of the random variable taking on a specific value or falling within a certain range of values.\n",
    "This can be done by taking the difference between the CDF values at the upper and lower bounds of the range of interest."
   ]
  },
  {
   "cell_type": "code",
   "execution_count": null,
   "id": "8c9da6a2-33d4-44cd-b07d-2dc939421f4d",
   "metadata": {},
   "outputs": [],
   "source": [
    "Q3: What are some examples of situations where the normal distribution might be used as a model?\n",
    "Explain how the parameters of the normal distribution relate to the shape of the distribution."
   ]
  },
  {
   "cell_type": "code",
   "execution_count": null,
   "id": "6cbbe73d-9dda-485f-b7a9-76edd23ea173",
   "metadata": {},
   "outputs": [],
   "source": [
    "Here are some examples of situations where the normal distribution might be used as a model:\n",
    "Heights of individuals: The distribution of heights of people in a population is often modeled using a normal distribution.\n",
    "Exam scores: The distribution of scores on an exam where the exam is designed to be normally distributed.\n",
    "Blood pressure: The distribution of blood pressure in a population can be modeled using a normal distribution.\n",
    "Errors in measurements: The distribution of errors in measurements can often be modeled using a normal distribution.\n",
    "\n",
    "Together, the mean and standard deviation determine the shape and location of the normal distribution. \n",
    "The normal distribution is a versatile tool that can be used to model many real-world phenomena and is essential to statistical inference and hypothesis testing."
   ]
  },
  {
   "cell_type": "code",
   "execution_count": null,
   "id": "45633af1-7880-49dc-9691-60f925698030",
   "metadata": {},
   "outputs": [],
   "source": [
    "Q4: Explain the importance of Normal Distribution. Give a few real-life examples of Normal\n",
    "Distribution."
   ]
  },
  {
   "cell_type": "code",
   "execution_count": null,
   "id": "0f2fe812-2edd-41f6-b366-7985db24cb4e",
   "metadata": {},
   "outputs": [],
   "source": [
    "Normal distribution, also known as Gaussian distribution, is a fundamental concept in statistics and probability theory.\n",
    "It is essential in understanding and analyzing a wide range of real-life phenomena that involve randomness,\n",
    "such as biological processes, financial markets, and scientific experiments."
   ]
  },
  {
   "cell_type": "code",
   "execution_count": null,
   "id": "f7a5cb03-4916-48dd-816c-d18810936e2c",
   "metadata": {},
   "outputs": [],
   "source": [
    "Q5: What is Bernaulli Distribution? Give an Example. What is the difference between Bernoulli\n",
    "Distribution and Binomial Distribution?"
   ]
  },
  {
   "cell_type": "code",
   "execution_count": null,
   "id": "6aefa1ef-22c1-4e89-b2f3-f9e127af5531",
   "metadata": {},
   "outputs": [],
   "source": [
    "The Bernoulli distribution is a discrete probability distribution that models the outcome of a single binary event, such as flipping a coin or rolling a die.\n",
    "The Bernoulli distribution has a single parameter, p, which represents the probability of success (usually denoted by 1) and the probability of failure (usually denoted by 0) is 1-p.\n",
    "\n",
    "The Binomial distribution, on the other hand, is a discrete probability distribution that models the number of successes in a fixed number of independent Bernoulli trials.\n",
    "It is characterized by two parameters: n, the number of trials, and p, the probability of success in each trial. \n",
    "The Binomial distribution can be used to calculate the probability of obtaining a certain number of successes in a given number of trials."
   ]
  },
  {
   "cell_type": "code",
   "execution_count": null,
   "id": "078509bb-6cda-4332-809b-a0902b561225",
   "metadata": {},
   "outputs": [],
   "source": [
    "Q6. Consider a dataset with a mean of 50 and a standard deviation of 10. If we assume that the dataset\n",
    "is normally distributed, what is the probability that a randomly selected observation will be greater\n",
    "than 60? Use the appropriate formula and show your calculations."
   ]
  },
  {
   "cell_type": "code",
   "execution_count": null,
   "id": "fff14857-04cc-47ed-acdc-c50736591de0",
   "metadata": {},
   "outputs": [],
   "source": [
    "z = (60 - 50) / 10 = 1\n",
    "Therefore, the probability that a randomly selected observation from the dataset will be greater than 60 is 0.1587 or approximately 15.87%."
   ]
  },
  {
   "cell_type": "code",
   "execution_count": null,
   "id": "1034be99-44be-45f8-bb45-35a6591f42a4",
   "metadata": {},
   "outputs": [],
   "source": [
    "Q7: Explain uniform Distribution with an example."
   ]
  },
  {
   "cell_type": "code",
   "execution_count": null,
   "id": "110d20b5-3d42-4f43-b8f4-c7fb6b931cc8",
   "metadata": {},
   "outputs": [],
   "source": [
    "Uniform distribution is a continuous probability distribution in which all outcomes in a given interval are equally likely to occur. \n",
    "In other words, the probability of any value in the interval is constant and the distribution is \"uniform\" throughout the interval.\n",
    "\n",
    "An example of uniform distribution would be the rolling of a fair six-sided die.\n",
    "Each number (1, 2, 3, 4, 5, 6) has an equal probability of occurring (1/6), and the distribution of outcomes is uniform across the interval of possible values.\n",
    "Another example is the time it takes for a traffic light to change from green to red, assuming the time is uniformly distributed between 30 and 60 seconds."
   ]
  },
  {
   "cell_type": "code",
   "execution_count": null,
   "id": "06c9a4b1-d97c-4cfc-80c4-482ca033c690",
   "metadata": {},
   "outputs": [],
   "source": [
    "Q8: What is the z score? State the importance of the z score."
   ]
  },
  {
   "cell_type": "code",
   "execution_count": null,
   "id": "b571847e-e103-4503-b387-2a2a4958e8c5",
   "metadata": {},
   "outputs": [],
   "source": [
    "A z-score (also called a standard score) is a measure of how many standard deviations an observation or data point is away from the mean of its distribution. "
   ]
  },
  {
   "cell_type": "code",
   "execution_count": null,
   "id": "4558a56b-864f-4711-b7c2-649381d21bb1",
   "metadata": {},
   "outputs": [],
   "source": [
    "The importance of the z-score lies in its ability to standardize different datasets so that they can be compared and analyzed on the same scale.\n",
    "By standardizing data to have a mean of 0 and a standard deviation of 1, \n",
    "the z-score allows for easy comparison of data from different distributions, regardless of their scales."
   ]
  },
  {
   "cell_type": "code",
   "execution_count": null,
   "id": "ea8c6aec-2ab5-4d12-8499-3e97fc9cd34a",
   "metadata": {},
   "outputs": [],
   "source": [
    "Q9: What is Central Limit Theorem? State the significance of the Central Limit Theorem."
   ]
  },
  {
   "cell_type": "code",
   "execution_count": null,
   "id": "94226fc1-69d5-4d95-8bc4-a9227e8f2bca",
   "metadata": {},
   "outputs": [],
   "source": [
    "The Central Limit Theorem is a fundamental theorem in probability theory and statistics that states that the sample mean of a large number of independent \n",
    "and identically distributed random variables (regardless of their underlying distribution) will be approximately normally distributed,\n",
    "with a mean equal to the population mean and a standard deviation equal to the population standard deviation divided by the square root of the sample size. \n",
    "In other words, the theorem states that as the sample size increases, the distribution of the sample means approaches a normal distribution.\n",
    "\n",
    "The significance of the Central Limit Theorem lies in its practical applications in statistical inference. It allows us to make inferences about a population based on a sample,\n",
    "even if the underlying distribution of the population is unknown "
   ]
  },
  {
   "cell_type": "code",
   "execution_count": null,
   "id": "c89509f8-81cd-4651-8590-dada0ce340c1",
   "metadata": {},
   "outputs": [],
   "source": [
    "Independence: The samples used to calculate the means are independent of each other. In other words, the observations within each sample are not influenced by the observations in the other samples.\n",
    "\n",
    "Sample size: The sample size should be sufficiently large. A commonly used rule of thumb is that the sample size should be greater than 30. However, this threshold may vary depending on the underlying distribution of the population.\n",
    "\n",
    "Identically distributed: The samples are drawn from the same population, and the population has a finite variance.\n",
    "\n",
    "Randomness: The samples are chosen randomly from the population.\n",
    "\n",
    "No extreme values: The population does not contain extreme values or outliers that would skew the distribution of the means."
   ]
  },
  {
   "cell_type": "code",
   "execution_count": null,
   "id": "a04e5086-762d-4e55-a35b-969dd82475bb",
   "metadata": {},
   "outputs": [],
   "source": []
  },
  {
   "cell_type": "code",
   "execution_count": null,
   "id": "f6083512-1007-4ccb-9ebe-e265f92d44b8",
   "metadata": {},
   "outputs": [],
   "source": []
  },
  {
   "cell_type": "code",
   "execution_count": null,
   "id": "b5c10413-8c9c-4db8-9009-9c88d1a43e4e",
   "metadata": {},
   "outputs": [],
   "source": []
  },
  {
   "cell_type": "code",
   "execution_count": null,
   "id": "d47c2d8f-7d01-45e3-b12f-900cffe60c46",
   "metadata": {},
   "outputs": [],
   "source": []
  },
  {
   "cell_type": "code",
   "execution_count": null,
   "id": "75c16574-93ea-42d1-8880-7a43be6b2701",
   "metadata": {},
   "outputs": [],
   "source": []
  },
  {
   "cell_type": "code",
   "execution_count": null,
   "id": "0a8904aa-52fa-4b17-884c-8f08ec53277b",
   "metadata": {},
   "outputs": [],
   "source": []
  },
  {
   "cell_type": "code",
   "execution_count": null,
   "id": "7f867574-d02b-4ba9-b0ef-bc5b9f693719",
   "metadata": {},
   "outputs": [],
   "source": []
  },
  {
   "cell_type": "code",
   "execution_count": null,
   "id": "df9c7e0c-c3f1-4f0b-a5e9-4c5e6383cdd4",
   "metadata": {},
   "outputs": [],
   "source": []
  }
 ],
 "metadata": {
  "kernelspec": {
   "display_name": "Python 3 (ipykernel)",
   "language": "python",
   "name": "python3"
  },
  "language_info": {
   "codemirror_mode": {
    "name": "ipython",
    "version": 3
   },
   "file_extension": ".py",
   "mimetype": "text/x-python",
   "name": "python",
   "nbconvert_exporter": "python",
   "pygments_lexer": "ipython3",
   "version": "3.10.8"
  }
 },
 "nbformat": 4,
 "nbformat_minor": 5
}
