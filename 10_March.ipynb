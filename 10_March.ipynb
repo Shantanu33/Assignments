{
 "cells": [
  {
   "cell_type": "code",
   "execution_count": null,
   "id": "285b09e2-627c-4ce8-aa87-43e3b15590af",
   "metadata": {},
   "outputs": [],
   "source": [
    "Q1: What is Estimation Statistics? Explain point estimate and interval estimate."
   ]
  },
  {
   "cell_type": "code",
   "execution_count": null,
   "id": "f5492786-6235-4fb7-8a63-55911fc52147",
   "metadata": {},
   "outputs": [],
   "source": []
  },
  {
   "cell_type": "code",
   "execution_count": null,
   "id": "c39dadca-369e-49f1-9af8-7bc02896103b",
   "metadata": {},
   "outputs": [],
   "source": [
    "Estimation statistics is a branch of statistics that involves using sample data to make inferences about the population parameters.\n",
    "It provides a way to estimate unknown population parameters, such as the population mean, variance, proportion, and others.\n",
    "\n",
    "Point estimation involves using a single value, called a point estimate, to estimate an unknown population parameter. \n",
    "The point estimate is typically the sample statistic that best represents the population parameter of interest\n",
    "\n",
    "Interval estimation, on the other hand, involves calculating a range of values, called a confidence interval, within which the unknown population parameter is likely to fall.\n",
    "A confidence interval is based on the sample data and a certain level of confidence, typically expressed as a percentage. "
   ]
  },
  {
   "cell_type": "code",
   "execution_count": null,
   "id": "72fd1a0e-fc4e-4a88-816f-1b5d3be6b94d",
   "metadata": {},
   "outputs": [],
   "source": [
    "Q2. Write a Python function to estimate the population mean using a sample mean and standard\n",
    "deviation."
   ]
  },
  {
   "cell_type": "code",
   "execution_count": 1,
   "id": "0884ee7c-4c8e-43e8-8307-409d6745fae7",
   "metadata": {},
   "outputs": [],
   "source": [
    "import math\n",
    "\n",
    "def estimate_population_mean(sample_mean, sample_std_dev, sample_size):\n",
    "    \"\"\"Estimates the population mean using a sample mean and standard deviation.\"\"\"\n",
    "    z_critical = 1.96  # for a 95% confidence level\n",
    "    margin_of_error = z_critical * (sample_std_dev / math.sqrt(sample_size))\n",
    "    lower_bound = sample_mean - margin_of_error\n",
    "    upper_bound = sample_mean + margin_of_error\n",
    "    return lower_bound, upper_bound\n"
   ]
  },
  {
   "cell_type": "code",
   "execution_count": 2,
   "id": "0d508e12-188a-4c34-9648-118dfc6dd247",
   "metadata": {},
   "outputs": [
    {
     "data": {
      "text/plain": [
       "(9.608, 10.392)"
      ]
     },
     "execution_count": 2,
     "metadata": {},
     "output_type": "execute_result"
    }
   ],
   "source": [
    "estimate_population_mean(10,2,100)"
   ]
  },
  {
   "cell_type": "code",
   "execution_count": null,
   "id": "ddd3cf60-15a4-46cc-b69e-8e8128ef4b3b",
   "metadata": {},
   "outputs": [],
   "source": [
    "Q3: What is Hypothesis testing? Why is it used? State the importance of Hypothesis testing."
   ]
  },
  {
   "cell_type": "code",
   "execution_count": null,
   "id": "6f23dc96-d260-419d-9ded-ced0e3657581",
   "metadata": {},
   "outputs": [],
   "source": [
    "Hypothesis testing is a statistical method used to make inferences about a population parameter based on a sample of data. \n",
    "\n",
    "Hypothesis testing is used to determine whether there is sufficient evidence to support or reject a claim about a population based on a sample of data.\n",
    "It helps to make decisions based on empirical evidence and reduce the risk of making incorrect conclusions based on random variation or bias in the data.\n",
    "\n",
    "The importance of hypothesis testing lies in its ability to provide a framework for making decisions based on data,\n",
    "and to quantify the level of uncertainty in those decisions.\n"
   ]
  },
  {
   "cell_type": "code",
   "execution_count": null,
   "id": "4e2538e0-b179-4d7e-bd82-de374186f231",
   "metadata": {},
   "outputs": [],
   "source": [
    "Q4. Create a hypothesis that states whether the average weight of male college students is greater than\n",
    "the average weight of female college students."
   ]
  },
  {
   "cell_type": "code",
   "execution_count": null,
   "id": "ca39b4ae-cbd0-42de-9e4f-042266836598",
   "metadata": {},
   "outputs": [],
   "source": [
    "The null hypothesis for this hypothesis could be:\n",
    "\n",
    "H0: The average weight of male college students is not greater than the average weight of female college students.\n",
    "\n",
    "The alternative hypothesis could be:\n",
    "\n",
    "Ha: The average weight of male college students is greater than the average weight of female college students."
   ]
  },
  {
   "cell_type": "code",
   "execution_count": null,
   "id": "f7391a51-55cb-43d5-8389-f238ef2f6b4b",
   "metadata": {},
   "outputs": [],
   "source": [
    "Q5. Write a Python script to conduct a hypothesis test on the difference between two population means,\n",
    "given a sample from each population."
   ]
  },
  {
   "cell_type": "code",
   "execution_count": 3,
   "id": "e008a50e-f6e0-414e-aabb-bc2dc7ee5305",
   "metadata": {},
   "outputs": [
    {
     "name": "stdout",
     "output_type": "stream",
     "text": [
      "Sample 1 mean: 10.02654288216757\n",
      "Sample 2 mean: 12.122840117690803\n",
      "Sample 1 std: 2.4034010252957856\n",
      "Sample 2 std: 3.221802238046626\n",
      "t-statistic: -3.687790906682255\n",
      "p-value: 0.00038524299511814413\n"
     ]
    }
   ],
   "source": [
    "import numpy as np\n",
    "from scipy import stats\n",
    "\n",
    "# generate sample data for two populations\n",
    "np.random.seed(123)\n",
    "sample1 = np.random.normal(loc=10, scale=2, size=50)\n",
    "sample2 = np.random.normal(loc=12, scale=3, size=50)\n",
    "\n",
    "# calculate sample means and standard deviations\n",
    "mean1 = np.mean(sample1)\n",
    "mean2 = np.mean(sample2)\n",
    "std1 = np.std(sample1, ddof=1)\n",
    "std2 = np.std(sample2, ddof=1)\n",
    "\n",
    "# conduct two-sample t-test\n",
    "t, p = stats.ttest_ind(sample1, sample2, equal_var=False)\n",
    "\n",
    "# print results\n",
    "print(\"Sample 1 mean:\", mean1)\n",
    "print(\"Sample 2 mean:\", mean2)\n",
    "print(\"Sample 1 std:\", std1)\n",
    "print(\"Sample 2 std:\", std2)\n",
    "print(\"t-statistic:\", t)\n",
    "print(\"p-value:\", p)\n"
   ]
  },
  {
   "cell_type": "code",
   "execution_count": null,
   "id": "167ee701-41e5-4485-bcb3-052858316de9",
   "metadata": {},
   "outputs": [],
   "source": [
    "Q6: What is a null and alternative hypothesis? Give some examples."
   ]
  },
  {
   "cell_type": "code",
   "execution_count": null,
   "id": "599b00ec-ef45-4e9e-8094-d4520a1a5fa5",
   "metadata": {},
   "outputs": [],
   "source": [
    "In hypothesis testing, the null hypothesis is a statement about a population parameter that we are interested in testing. \n",
    "The alternative hypothesis is the complementary statement to the null hypothesis."
   ]
  },
  {
   "cell_type": "code",
   "execution_count": null,
   "id": "456c2937-842f-40d1-aab0-0ff5179310c9",
   "metadata": {},
   "outputs": [],
   "source": [
    "Q7: Write down the steps involved in hypothesis testing."
   ]
  },
  {
   "cell_type": "code",
   "execution_count": null,
   "id": "f8a9ed0c-cce1-4e61-a0ac-3e9a1eb658c6",
   "metadata": {},
   "outputs": [],
   "source": [
    "State the null hypothesis (H0) and the alternative hypothesis (Ha)\n",
    "Choose the appropriate statistical test\n",
    "Determine the level of significance (α)\n",
    "Determine the test statistic and p-value\n",
    "Make a decision and interpret the results\n",
    "Draw conclusions and report the results\n"
   ]
  },
  {
   "cell_type": "code",
   "execution_count": null,
   "id": "00829199-f416-4a87-b130-c202ed013978",
   "metadata": {},
   "outputs": [],
   "source": [
    "Q8. Define p-value and explain its significance in hypothesis testing."
   ]
  },
  {
   "cell_type": "code",
   "execution_count": null,
   "id": "f9f96cdf-c59b-45d6-abae-847db4a31e8f",
   "metadata": {},
   "outputs": [],
   "source": [
    "The p-value is a statistical measure that helps in deciding whether to reject or fail to reject the null hypothesis in hypothesis testing.\n",
    "It is defined as the probability of observing a sample statistic as extreme or more extreme than the one observed, assuming the null hypothesis is true."
   ]
  },
  {
   "cell_type": "code",
   "execution_count": null,
   "id": "a6fe5ed4-08ba-4bab-a4d8-ef83fc4fb5dd",
   "metadata": {},
   "outputs": [],
   "source": []
  },
  {
   "cell_type": "code",
   "execution_count": null,
   "id": "2de6c532-b007-479d-ab5d-0401a8cde2e9",
   "metadata": {},
   "outputs": [],
   "source": []
  },
  {
   "cell_type": "code",
   "execution_count": null,
   "id": "374f67e3-4d16-4f4a-bab2-70618c7d6ac2",
   "metadata": {},
   "outputs": [],
   "source": []
  },
  {
   "cell_type": "code",
   "execution_count": null,
   "id": "78d39580-e931-49b1-aaba-ddeee449b7d9",
   "metadata": {},
   "outputs": [],
   "source": []
  }
 ],
 "metadata": {
  "kernelspec": {
   "display_name": "Python 3 (ipykernel)",
   "language": "python",
   "name": "python3"
  },
  "language_info": {
   "codemirror_mode": {
    "name": "ipython",
    "version": 3
   },
   "file_extension": ".py",
   "mimetype": "text/x-python",
   "name": "python",
   "nbconvert_exporter": "python",
   "pygments_lexer": "ipython3",
   "version": "3.10.8"
  }
 },
 "nbformat": 4,
 "nbformat_minor": 5
}
