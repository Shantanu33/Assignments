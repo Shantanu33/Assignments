{
 "cells": [
  {
   "cell_type": "code",
   "execution_count": null,
   "id": "18950a15-270b-4ef7-8fdf-047cf7477469",
   "metadata": {},
   "outputs": [],
   "source": [
    "Q1: What is the difference between a t-test and a z-test? Provide an example scenario where you would\n",
    "use each type of test."
   ]
  },
  {
   "cell_type": "code",
   "execution_count": null,
   "id": "1bda10a7-7b21-4cdf-871e-cc327241ffe6",
   "metadata": {},
   "outputs": [],
   "source": [
    "The key difference between a t-test and a z-test is the type of data that is being analyzed.\n",
    "T-tests are used when the sample size is small or when the population standard deviation is unknown,\n",
    "while z-tests are used when the sample size is large and the population standard deviation is known.\n"
   ]
  },
  {
   "cell_type": "code",
   "execution_count": null,
   "id": "6c665c8d-2051-4b31-a0af-8e5f39fee2e1",
   "metadata": {},
   "outputs": [],
   "source": [
    "Q2: Differentiate between one-tailed and two-tailed tests."
   ]
  },
  {
   "cell_type": "code",
   "execution_count": null,
   "id": "2e676be2-21c9-4ace-bf71-8b917674c140",
   "metadata": {},
   "outputs": [],
   "source": [
    "In a one-tailed test, the alternative hypothesis specifies the direction of the difference.\n",
    "In a two-tailed test, the alternative hypothesis does not specify the direction of the difference."
   ]
  },
  {
   "cell_type": "code",
   "execution_count": null,
   "id": "679b673d-aa73-423f-9ba2-0f8332e28c5f",
   "metadata": {},
   "outputs": [],
   "source": [
    "Q3: Explain the concept of Type 1 and Type 2 errors in hypothesis testing. Provide an example scenario for\n",
    "each type of error."
   ]
  },
  {
   "cell_type": "code",
   "execution_count": null,
   "id": "c6801ebd-3f23-42e5-914d-350ce5ff64f6",
   "metadata": {},
   "outputs": [],
   "source": [
    "Type 1 error occurs when we reject a true null hypothesis.\n",
    "Example scenario: Suppose a medical researcher tests a new drug on a group of patients and concludes that the drug is effective at reducing symptoms of a disease,\n",
    "when in fact, the drug has no effect. \n",
    "This is a Type 1 error.\n",
    "Type 2 error occurs when we fail to reject a false null hypothesis.\n",
    "Example scenario: Suppose a medical researcher tests a new drug on a group of patients and concludes that the drug has no effect on reducing symptoms of a disease,\n",
    "when in fact, the drug is effective. \n",
    "This is a Type 2 error.\n"
   ]
  },
  {
   "cell_type": "code",
   "execution_count": null,
   "id": "7eb8b323-4a22-4873-917b-361b6c9bf457",
   "metadata": {},
   "outputs": [],
   "source": [
    "Q4: Explain Bayes's theorem with an example."
   ]
  },
  {
   "cell_type": "code",
   "execution_count": null,
   "id": "05a0f626-dce4-4fc8-9d37-2cbc0b6c5cd0",
   "metadata": {},
   "outputs": [],
   "source": [
    "Bayes's theorem allows us to update our prior beliefs or probabilities based on new evidence or observations.\n",
    "Bayes's theorem is a statistical theorem that describes the probability of an event based on prior knowledge or information.\n",
    "The formula for Bayes's theorem is:\n",
    "\n",
    "P(A|B) = P(B|A) x P(A) / P(B)"
   ]
  },
  {
   "cell_type": "code",
   "execution_count": null,
   "id": "cebf59d6-3006-42d1-8f0d-a0e603006520",
   "metadata": {},
   "outputs": [],
   "source": [
    "Q5: What is a confidence interval? How to calculate the confidence interval, explain with an example.\n"
   ]
  },
  {
   "cell_type": "code",
   "execution_count": null,
   "id": "59b413e0-11ea-4623-9d49-e7965ff593ed",
   "metadata": {},
   "outputs": [],
   "source": [
    "A confidence interval is a range of values that is likely to contain the true value of a population parameter with a specified level of confidence. \n",
    "It is a measure of the precision or uncertainty of an estimate. The level of confidence is typically set at 95%, \n",
    "which means that there is a 95% chance that the true population parameter falls within the interval.\n",
    "To calculate a confidence interval\n",
    "CI = X̄ ± Zα/2 * (σ/√n)\n",
    "\n"
   ]
  },
  {
   "cell_type": "code",
   "execution_count": null,
   "id": "dbc93052-820f-4fa8-83e8-2f3251540fd3",
   "metadata": {},
   "outputs": [],
   "source": [
    "Q6. Use Bayes' Theorem to calculate the probability of an event occurring given prior knowledge of the\n",
    "event's probability and new evidence. Provide a sample problem and solution."
   ]
  },
  {
   "cell_type": "code",
   "execution_count": null,
   "id": "1b1d6b2c-e48a-4a3a-97b4-536c2c4936b1",
   "metadata": {},
   "outputs": [],
   "source": [
    "Bayes's theorem allows us to update our prior beliefs or probabilities based on new evidence or observations.\n",
    "Bayes's theorem is a statistical theorem that describes the probability of an event based on prior knowledge or information.\n",
    "The formula for Bayes's theorem is:\n",
    "\n",
    "P(A|B) = P(B|A) x P(A) / P(B)"
   ]
  },
  {
   "cell_type": "code",
   "execution_count": null,
   "id": "9f61277a-d2b1-4d98-8b63-8389d5edb6fc",
   "metadata": {},
   "outputs": [],
   "source": [
    "Q7. Calculate the 95% confidence interval for a sample of data with a mean of 50 and a standard deviation\n",
    "of 5. Interpret the results."
   ]
  },
  {
   "cell_type": "code",
   "execution_count": null,
   "id": "4d1e851d-0f21-4fa4-a87c-aa5fe786f17a",
   "metadata": {},
   "outputs": [],
   "source": [
    "CI = 50 ± 1.96 * (5/√n)"
   ]
  },
  {
   "cell_type": "code",
   "execution_count": null,
   "id": "caee0c97-a309-4744-867b-b330c58d6cf7",
   "metadata": {},
   "outputs": [],
   "source": [
    "Q8. What is the margin of error in a confidence interval? How does sample size affect the margin of error?\n",
    "Provide an example of a scenario where a larger sample size would result in a smaller margin of error."
   ]
  },
  {
   "cell_type": "code",
   "execution_count": null,
   "id": "f2befacb-ec8c-4b5a-9ed0-8e79b334c0f8",
   "metadata": {},
   "outputs": [],
   "source": [
    "It represents the range of values above and below the point estimate that is likely to contain the true population parameter with a specified level of confidence. \n",
    "The margin of error in a confidence interval is influenced by several factors, including the level of confidence, the variability of the data, and the sample size.\n",
    "A higher level of confidence or greater variability in the data will result in a larger margin of error, while a larger sample size will result in a smaller margin of error."
   ]
  },
  {
   "cell_type": "code",
   "execution_count": null,
   "id": "1252107c-702d-4621-b0fa-06c0341bb817",
   "metadata": {},
   "outputs": [],
   "source": [
    "Q9. Calculate the z-score for a data point with a value of 75, a population mean of 70, and a population\n",
    "standard deviation of 5. Interpret the results."
   ]
  },
  {
   "cell_type": "code",
   "execution_count": null,
   "id": "d69a67fa-4941-43d5-b923-bf0bc49e5a61",
   "metadata": {},
   "outputs": [],
   "source": [
    "z = (X - μ) / σ\n",
    "\n",
    "z = (75 - 70) / 5 = 1"
   ]
  },
  {
   "cell_type": "code",
   "execution_count": null,
   "id": "dc9f4548-cae7-4cd4-9ea3-966eaef695af",
   "metadata": {},
   "outputs": [],
   "source": [
    "Q10. In a study of the effectiveness of a new weight loss drug, a sample of 50 participants lost an average\n",
    "of 6 pounds with a standard deviation of 2.5 pounds. Conduct a hypothesis test to determine if the drug is\n",
    "significantly effective at a 95% confidence level using a t-test."
   ]
  },
  {
   "cell_type": "code",
   "execution_count": null,
   "id": "7528b25b-b233-4d9d-b965-c630f5f7f1bb",
   "metadata": {},
   "outputs": [],
   "source": [
    "t = (x̄ - μ) / (s / sqrt(n))\n",
    "\n",
    "t = (6 - 0) / (2.5 / sqrt(50)) = 18.97"
   ]
  },
  {
   "cell_type": "code",
   "execution_count": null,
   "id": "ac2b8ab9-43c6-46ca-b341-39a30bc8d913",
   "metadata": {},
   "outputs": [],
   "source": []
  },
  {
   "cell_type": "code",
   "execution_count": null,
   "id": "6e7158d8-ab8b-4f02-af2a-9f83a5b3485f",
   "metadata": {},
   "outputs": [],
   "source": []
  },
  {
   "cell_type": "code",
   "execution_count": null,
   "id": "75740f47-04e1-464e-a567-0cd2c01adeaa",
   "metadata": {},
   "outputs": [],
   "source": []
  },
  {
   "cell_type": "code",
   "execution_count": null,
   "id": "669488eb-a91f-4cbe-8945-5ef56f0bcbdc",
   "metadata": {},
   "outputs": [],
   "source": []
  },
  {
   "cell_type": "code",
   "execution_count": null,
   "id": "f1414b64-7052-497e-bedf-3a3ab65c0e6d",
   "metadata": {},
   "outputs": [],
   "source": []
  },
  {
   "cell_type": "code",
   "execution_count": null,
   "id": "b3e35422-6949-4130-9d74-79eac16e80d6",
   "metadata": {},
   "outputs": [],
   "source": []
  },
  {
   "cell_type": "code",
   "execution_count": null,
   "id": "a36fa65d-9d0c-4589-b82b-e3da8b4021c8",
   "metadata": {},
   "outputs": [],
   "source": []
  },
  {
   "cell_type": "code",
   "execution_count": null,
   "id": "6a6e37be-4eba-4d12-9e1d-bdc22287ac2f",
   "metadata": {},
   "outputs": [],
   "source": []
  }
 ],
 "metadata": {
  "kernelspec": {
   "display_name": "Python 3 (ipykernel)",
   "language": "python",
   "name": "python3"
  },
  "language_info": {
   "codemirror_mode": {
    "name": "ipython",
    "version": 3
   },
   "file_extension": ".py",
   "mimetype": "text/x-python",
   "name": "python",
   "nbconvert_exporter": "python",
   "pygments_lexer": "ipython3",
   "version": "3.10.8"
  }
 },
 "nbformat": 4,
 "nbformat_minor": 5
}
