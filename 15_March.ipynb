{
 "cells": [
  {
   "cell_type": "code",
   "execution_count": null,
   "id": "ec50f4ea-bc7f-44f9-8281-24c210a92287",
   "metadata": {},
   "outputs": [],
   "source": [
    "Q1.Explain the following with an example 1.artificial intelligence 2.machine learning 3.deep learning"
   ]
  },
  {
   "cell_type": "code",
   "execution_count": null,
   "id": "59ba7438-8d07-4354-9d37-cc0d27db6a05",
   "metadata": {},
   "outputs": [],
   "source": [
    "Artificial Intelligence is the concept of creating smart intelligent machines.\n",
    "Machine Learning is a subset of artificial intelligence that helps you build AI-driven applications.\n",
    "Deep Learning is a subset of machine learning that uses vast volumes of data and complex algorithms to train a model.\n"
   ]
  },
  {
   "cell_type": "code",
   "execution_count": null,
   "id": "c12d1c43-17d4-453f-a644-02b85d3e5012",
   "metadata": {},
   "outputs": [],
   "source": [
    "Q2.what is supervised machine learning explain with example"
   ]
  },
  {
   "cell_type": "code",
   "execution_count": null,
   "id": "6db6aacd-a733-477a-9c2c-03896e0d3fb8",
   "metadata": {},
   "outputs": [],
   "source": [
    "Supervised learning is a process of providing input data as well as correct output data to the machine learning model.\n",
    "The aim of a supervised learning algorithm is to find a mapping function to map the input variable(x) with the output variable(y).\n",
    "\n",
    "ex: Linear regression for regression problems"
   ]
  },
  {
   "cell_type": "code",
   "execution_count": null,
   "id": "fadba4f6-1e35-46b9-82a1-d321bf1cac58",
   "metadata": {},
   "outputs": [],
   "source": [
    "Q3.what is unsupervised machine learning explain with example"
   ]
  },
  {
   "cell_type": "code",
   "execution_count": null,
   "id": "fe232234-39b0-4b27-98d7-392df48ceb5d",
   "metadata": {},
   "outputs": [],
   "source": [
    "Unsupervised learning is when it can provide a set of unlabelled data, which it is required to analyze and find patterns inside. The examples are dimension reduction and clustering"
   ]
  },
  {
   "cell_type": "code",
   "execution_count": null,
   "id": "63901297-8116-43ab-9b9b-39660f9d9cdf",
   "metadata": {},
   "outputs": [],
   "source": [
    "Q4.what is the difference between artificial intelligence, machine learning, deep learning and data science"
   ]
  },
  {
   "cell_type": "code",
   "execution_count": null,
   "id": "7f7f4e6f-f3dc-4b8c-b4a1-0ded24a63110",
   "metadata": {},
   "outputs": [],
   "source": [
    "Artificial Intelligence is the concept of creating smart intelligent machines.\n",
    "Machine Learning is a subset of artificial intelligence that helps you build AI-driven applications.\n",
    "Deep Learning is a subset of machine learning that uses vast volumes of data and complex algorithms to train a model.\n",
    "All these topics are covered in DataScience"
   ]
  },
  {
   "cell_type": "code",
   "execution_count": null,
   "id": "a8485c14-0aa3-4f21-9978-93b6423c505f",
   "metadata": {},
   "outputs": [],
   "source": [
    "Q5.what is the difference between supervised and unsupervised and semi supervised learning in machine learning"
   ]
  },
  {
   "cell_type": "code",
   "execution_count": null,
   "id": "083082f9-dbb7-4630-9e73-0622fa5b6049",
   "metadata": {},
   "outputs": [],
   "source": [
    " Supervised Learning, the goal is to generate formula based on input and output values.\n",
    "In Unsupervised Learning, we find an association between input values and group them.\n",
    "In semi supervised Learning an agent learn through delayed feedback by interacting with the environment"
   ]
  },
  {
   "cell_type": "code",
   "execution_count": null,
   "id": "d17fa5cb-fee9-4c54-a69c-21ca2fe87033",
   "metadata": {},
   "outputs": [],
   "source": [
    "Q6.what is train test and validation split explain the importance of each term"
   ]
  },
  {
   "cell_type": "code",
   "execution_count": null,
   "id": "155dcaa4-cc2e-4aba-b389-6cb05970716f",
   "metadata": {},
   "outputs": [],
   "source": [
    "The motivation is quite simple: you should separate your data into train, validation, and test splits to prevent your model from overfitting and to accurately evaluate your model\n",
    "Validation split helps to improve the model performance by fine-tuning the model after each epoch. \n",
    "The test set informs us about the final accuracy of the model after completing the training phase. \n",
    "The training set should not be too small; else, the model will not have enough data to learn."
   ]
  },
  {
   "cell_type": "code",
   "execution_count": null,
   "id": "0fc330a1-b920-44da-9c22-b21d3c128d30",
   "metadata": {},
   "outputs": [],
   "source": [
    "Q7.how can  unsupervised learning used in anomaly detection"
   ]
  },
  {
   "cell_type": "code",
   "execution_count": null,
   "id": "2298ff98-a6c2-43c8-8028-79e213ab308e",
   "metadata": {},
   "outputs": [],
   "source": [
    "Unsupervised is useful when the data is unlabeled and thus requires less work to process the data set before- hand.\n",
    "Anomaly detection techniques of unsupervised nature assume that normal data points occur considerably more frequently than anomalous data points."
   ]
  },
  {
   "cell_type": "code",
   "execution_count": null,
   "id": "8e35483f-eb2e-4e9a-a733-282faa62618b",
   "metadata": {},
   "outputs": [],
   "source": [
    "Q8.list down some commonly used supervised algorithms and unsupervised algorithms"
   ]
  },
  {
   "cell_type": "code",
   "execution_count": null,
   "id": "4d7ddb13-53c9-4e70-a3c3-e7899fcb08bb",
   "metadata": {},
   "outputs": [],
   "source": [
    "The most commonly used Supervised Learning algorithms are decision tree, logistic regression, linear regression, support vector machine. \n",
    "The most commonly used Unsupervised Learning algorithms are k-means clustering, hierarchical clustering, and apriori algorithm"
   ]
  },
  {
   "cell_type": "code",
   "execution_count": null,
   "id": "1a58d69e-a758-482b-a449-0bf6a38f0625",
   "metadata": {},
   "outputs": [],
   "source": []
  },
  {
   "cell_type": "code",
   "execution_count": null,
   "id": "a9913069-f3e5-46f4-9f8e-35ed6408f79f",
   "metadata": {},
   "outputs": [],
   "source": []
  }
 ],
 "metadata": {
  "kernelspec": {
   "display_name": "Python 3 (ipykernel)",
   "language": "python",
   "name": "python3"
  },
  "language_info": {
   "codemirror_mode": {
    "name": "ipython",
    "version": 3
   },
   "file_extension": ".py",
   "mimetype": "text/x-python",
   "name": "python",
   "nbconvert_exporter": "python",
   "pygments_lexer": "ipython3",
   "version": "3.10.8"
  }
 },
 "nbformat": 4,
 "nbformat_minor": 5
}
