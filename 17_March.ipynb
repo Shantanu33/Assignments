{
 "cells": [
  {
   "cell_type": "markdown",
   "id": "9c170c73-08a0-4ee1-9d78-e3feebb15606",
   "metadata": {},
   "source": [
    "Q1: What are missing values in a dataset? Why is it essential to handle missing values? Name some\n",
    "algorithms that are not affected by missing values."
   ]
  },
  {
   "cell_type": "code",
   "execution_count": null,
   "id": "01368daa-0891-4644-81ea-7ecd3bdcd8bd",
   "metadata": {},
   "outputs": [],
   "source": [
    "Missing values in a dataset refer to the absence of data values in some of the observations or attributes.\n",
    "It can be due to various reasons such as data entry errors, incomplete data collection.\n",
    "\n",
    "It is essential to handle missing values because they can affect the quality and reliability of the results obtained from data analysis\n",
    "\n",
    "Some of the algorithms that are not affected by missing values are:\n",
    "\n",
    "Decision Trees\n",
    "Naive Bayes"
   ]
  },
  {
   "cell_type": "code",
   "execution_count": null,
   "id": "4b6c5a25-f2b1-49a9-9270-47ae46ec88cd",
   "metadata": {},
   "outputs": [],
   "source": [
    "Q2: List down techniques used to handle missing data. Give an example of each with python code."
   ]
  },
  {
   "cell_type": "code",
   "execution_count": null,
   "id": "dcb34397-dfcd-402d-ae6c-c9e7929ac2d0",
   "metadata": {},
   "outputs": [],
   "source": [
    "we can handle missing values by finding mean,mode and median.\n",
    "Mean:df['Age_mean']=df['age'].fillna(df['age'].mean())\n",
    "Median:df['Age_median']=df['age'].fillna(df['age'].median())\n",
    "Mode:mode=df[df['age'].notna()]['embarked'].mode()[0]\n",
    "    "
   ]
  },
  {
   "cell_type": "code",
   "execution_count": null,
   "id": "2dcf9990-e524-407e-8c64-8dd33419d6a2",
   "metadata": {},
   "outputs": [],
   "source": [
    "Q3: Explain the imbalanced data. What will happen if imbalanced data is not handled?"
   ]
  },
  {
   "cell_type": "code",
   "execution_count": null,
   "id": "b8db3693-e1d9-47be-b971-230c4205ba62",
   "metadata": {},
   "outputs": [],
   "source": [
    "Imbalanced data refers to those types of datasets where the target class has an uneven distribution of observations,\n",
    "i.e one class label has a very high number of observations and the other has a very low number of observations\n",
    "\n",
    "If imbalanced data is not handled, it can lead to biased models, incorrect predictions, and reduced overall performance of the machine learning model."
   ]
  },
  {
   "cell_type": "code",
   "execution_count": null,
   "id": "950e680d-7cb5-4f6c-bd5f-493fda2f2855",
   "metadata": {},
   "outputs": [],
   "source": [
    "Q4: What are Up-sampling and Down-sampling? Explain with an example when up-sampling and down-\n",
    "sampling are required."
   ]
  },
  {
   "cell_type": "code",
   "execution_count": null,
   "id": "2759a84f-d154-4fcc-8424-0880a69adcfc",
   "metadata": {},
   "outputs": [],
   "source": [
    "Up-sampling involves increasing the number of instances in the minority class by randomly duplicating instances or generating new ones. \n",
    "This technique can be useful when there is a significant imbalance in the data, and the minority class has very few instances. \n",
    "example, suppose we have a dataset with 100 instances, where 90 instances belong to class A and 10 instances belong to class B.\n",
    "In that case, we can up-sample class B by randomly duplicating instances or generating new ones to increase its size and balance the distribution of classes.\n",
    "\n",
    "Down-sampling, on the other hand, involves reducing the number of instances in the majority class by randomly removing instances.\n",
    "This technique can be useful when the majority class is significantly larger than the minority class, and the dataset is too large to up-sample. \n",
    "For example, suppose we have a dataset with 10,000 instances, where 9,000 instances belong to class A and 1,000 instances belong to class B.\n",
    "In that case, we can down-sample class A by randomly removing instances to balance the distribution of classes."
   ]
  },
  {
   "cell_type": "code",
   "execution_count": null,
   "id": "7c2b051c-26e8-41c4-8bac-cc5739b11b32",
   "metadata": {},
   "outputs": [],
   "source": [
    "Q5: What is data Augmentation? Explain SMOTE."
   ]
  },
  {
   "cell_type": "code",
   "execution_count": null,
   "id": "0968f4da-66cf-4f07-80ee-4fb10a484f80",
   "metadata": {},
   "outputs": [],
   "source": [
    " Data augmentation is a technique of artificially increasing the training set by creating modified copies of a dataset using existing data\n",
    "SMOTE is an over-sampling technique focused on generating synthetic tabular data.\n",
    "The general idea of SMOTE is the generation of synthetic data between each sample of the minority class and its “k” nearest neighbors.\n",
    "Synthetic Minority Oversampling Technique (SMOTE) is a statistical technique for increasing the number of cases in your dataset in a balanced way.\n",
    "The component works by generating new instances from existing minority cases that you supply as input."
   ]
  },
  {
   "cell_type": "code",
   "execution_count": null,
   "id": "726e474a-d5e8-48ac-9b90-96ec917d76fd",
   "metadata": {},
   "outputs": [],
   "source": [
    "Q6: What are outliers in a dataset? Why is it essential to handle outliers?"
   ]
  },
  {
   "cell_type": "code",
   "execution_count": null,
   "id": "1d552649-5882-48d1-a085-c65b5963a81b",
   "metadata": {},
   "outputs": [],
   "source": [
    " An outlier is an observation that lies an abnormal distance from other values in a random sample from a population\n",
    " they can negatively affect the statistical analysis and the training process of a machine learning algorithm resulting in lower accuracy."
   ]
  },
  {
   "cell_type": "code",
   "execution_count": null,
   "id": "aeaeeda8-63c1-4a5b-a5b2-7c579d356430",
   "metadata": {},
   "outputs": [],
   "source": [
    "Q7: You are working on a project that requires analyzing customer data. However, you notice that some of\n",
    "the data is missing. What are some techniques you can use to handle the missing data in your analysis?"
   ]
  },
  {
   "cell_type": "code",
   "execution_count": null,
   "id": "0e94e21e-c395-4875-b93c-fcceed935b95",
   "metadata": {},
   "outputs": [],
   "source": [
    "Imputing missing data: This technique involves estimating the missing data using various methods such as mean, median, mode, regression, or machine learning algorithms.\n",
    "Imputing missing data can be effective if the missing data is not spread out, and the imputation method is appropriate for the data type and distribution."
   ]
  },
  {
   "cell_type": "code",
   "execution_count": null,
   "id": "7428b35c-3231-4ddc-aa80-1f9e7f47a3cc",
   "metadata": {},
   "outputs": [],
   "source": [
    "Q8: You are working with a large dataset and find that a small percentage of the data is missing. What are\n",
    "some strategies you can use to determine if the missing data is missing at random or if there is a pattern\n",
    "to the missing data?"
   ]
  },
  {
   "cell_type": "code",
   "execution_count": null,
   "id": "41accea9-f832-44bb-bde0-6e716408c8f1",
   "metadata": {},
   "outputs": [],
   "source": [
    "Correlation analysis: Another way to determine if the missing data is MAR or MNAR is to conduct correlation analysis.\n",
    "If the missing data is MAR, it should be uncorrelated with the observed data. \n",
    "However, if the missing data is MNAR, it could be correlated with the observed data.\n",
    "Correlation analysis can help to identify potential relationships between missing data and observed data."
   ]
  },
  {
   "cell_type": "code",
   "execution_count": null,
   "id": "457b3c76-7bbe-43c2-a266-347d843b1272",
   "metadata": {},
   "outputs": [],
   "source": [
    "Q9: Suppose you are working on a medical diagnosis project and find that the majority of patients in the\n",
    "dataset do not have the condition of interest, while a small percentage do. What are some strategies you\n",
    "can use to evaluate the performance of your machine learning model on this imbalanced dataset?"
   ]
  },
  {
   "cell_type": "code",
   "execution_count": null,
   "id": "4ddf36ee-8945-478d-9df6-b01704e45b0b",
   "metadata": {},
   "outputs": [],
   "source": [
    "Resampling techniques: Resampling techniques such as oversampling and undersampling can be used to balance the dataset. \n",
    "Oversampling involves increasing the number of samples in the minority class, while undersampling involves reducing the number of samples in the majority class.\n",
    "These techniques can help to balance the dataset and improve the performance of the machine learning model."
   ]
  },
  {
   "cell_type": "code",
   "execution_count": null,
   "id": "1eb8aa3a-30ba-4cef-9284-2c225713a565",
   "metadata": {},
   "outputs": [],
   "source": [
    "Q10: When attempting to estimate customer satisfaction for a project, you discover that the dataset is\n",
    "unbalanced, with the bulk of customers reporting being satisfied. What methods can you employ to\n",
    "balance the dataset and down-sample the majority class?"
   ]
  },
  {
   "cell_type": "code",
   "execution_count": null,
   "id": "74e305f7-e250-4a53-a95c-fa05afd4b0aa",
   "metadata": {},
   "outputs": [],
   "source": [
    "To balance the dataset and down-sample the majority class when attempting to estimate customer satisfaction for a project, the following methods can be employed:\n",
    "\n",
    "Undersampling: This involves reducing the number of samples in the majority class.\n",
    "In this case, the majority class is satisfied customers. Undersampling can be performed randomly or by selecting specific samples based on certain criteria.\n",
    "\n",
    "Oversampling: This involves increasing the number of samples in the minority class. \n",
    "In this case, the minority class is unsatisfied customers. Oversampling can be performed using various techniques, such as duplicating samples or generating synthetic samples."
   ]
  },
  {
   "cell_type": "code",
   "execution_count": null,
   "id": "b87471a1-5f70-4371-9036-86ee8dcfee7f",
   "metadata": {},
   "outputs": [],
   "source": [
    "Q11: You discover that the dataset is unbalanced with a low percentage of occurrences while working on a\n",
    "project that requires you to estimate the occurrence of a rare event. What methods can you employ to\n",
    "balance the dataset and up-sample the minority class?"
   ]
  },
  {
   "cell_type": "code",
   "execution_count": null,
   "id": "f3ccc1aa-2b0a-4ee1-a416-76c526b554a0",
   "metadata": {},
   "outputs": [],
   "source": [
    " SMOTE can help to increase the number of samples in the minority class without creating exact duplicates."
   ]
  },
  {
   "cell_type": "code",
   "execution_count": null,
   "id": "1597d433-08cb-45a7-b932-ef105e071a1b",
   "metadata": {},
   "outputs": [],
   "source": []
  },
  {
   "cell_type": "code",
   "execution_count": null,
   "id": "79b8717e-2874-4292-a647-c67ebcf87cdd",
   "metadata": {},
   "outputs": [],
   "source": []
  },
  {
   "cell_type": "code",
   "execution_count": null,
   "id": "3bc18087-d95c-47bf-8c97-0df7daa5b08d",
   "metadata": {},
   "outputs": [],
   "source": []
  },
  {
   "cell_type": "code",
   "execution_count": null,
   "id": "1a5252aa-3f6e-46ce-ba37-eeb5cdcabfbd",
   "metadata": {},
   "outputs": [],
   "source": []
  },
  {
   "cell_type": "code",
   "execution_count": null,
   "id": "6de6ee4e-98f7-4f6c-8acf-02aaee473e83",
   "metadata": {},
   "outputs": [],
   "source": []
  },
  {
   "cell_type": "code",
   "execution_count": null,
   "id": "5dc4b212-1c2a-4edd-a3bd-33bc66fc866e",
   "metadata": {},
   "outputs": [],
   "source": []
  },
  {
   "cell_type": "code",
   "execution_count": null,
   "id": "b910a005-4ca2-4113-97ca-e05af8c094ca",
   "metadata": {},
   "outputs": [],
   "source": []
  },
  {
   "cell_type": "code",
   "execution_count": null,
   "id": "23a88a74-a69a-48ce-bc17-d2ab526d35eb",
   "metadata": {},
   "outputs": [],
   "source": []
  },
  {
   "cell_type": "code",
   "execution_count": null,
   "id": "799fd67f-13d7-4764-90a0-0876531cec56",
   "metadata": {},
   "outputs": [],
   "source": []
  }
 ],
 "metadata": {
  "kernelspec": {
   "display_name": "Python 3 (ipykernel)",
   "language": "python",
   "name": "python3"
  },
  "language_info": {
   "codemirror_mode": {
    "name": "ipython",
    "version": 3
   },
   "file_extension": ".py",
   "mimetype": "text/x-python",
   "name": "python",
   "nbconvert_exporter": "python",
   "pygments_lexer": "ipython3",
   "version": "3.10.8"
  }
 },
 "nbformat": 4,
 "nbformat_minor": 5
}
