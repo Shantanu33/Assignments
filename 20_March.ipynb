{
 "cells": [
  {
   "cell_type": "code",
   "execution_count": null,
   "id": "759b0e5d-7d8c-457b-90dc-876d8b1508ef",
   "metadata": {},
   "outputs": [],
   "source": [
    "Q1. What is data encoding? How is it useful in data science?"
   ]
  },
  {
   "cell_type": "code",
   "execution_count": null,
   "id": "32a19e56-3b63-4c35-a551-3d9417845f0d",
   "metadata": {},
   "outputs": [],
   "source": [
    "Data encoding refers to the process of converting data from one format to another format, \n",
    "typically for the purpose of storage or transmission.\n",
    "Encoding can be used to compress data to save storage space.\n",
    "\n",
    "In data science, data encoding is useful in several ways. One common use of encoding is to convert categorical data, such as colors or categories, \n",
    "into numerical data that can be used in statistical models. This process is called one-hot encoding, and it creates binary columns for each possible category, \n",
    "with a value of 1 indicating that a particular category is present and a value of 0 indicating that it is not."
   ]
  },
  {
   "cell_type": "code",
   "execution_count": null,
   "id": "1f85432e-9dfa-40c9-b173-6744804489ba",
   "metadata": {},
   "outputs": [],
   "source": [
    "Q2. What is nominal encoding? Provide an example of how you would use it in a real-world scenario."
   ]
  },
  {
   "cell_type": "code",
   "execution_count": null,
   "id": "5a093b4e-c83a-4bfa-8d76-0ec389926565",
   "metadata": {},
   "outputs": [],
   "source": [
    "When we have a feature where variables are just names and there is no order or rank to this variable's feature.\n",
    "A Person with his citizenship."
   ]
  },
  {
   "cell_type": "code",
   "execution_count": null,
   "id": "e0d72685-d9cf-4c63-9445-3891850c1d83",
   "metadata": {},
   "outputs": [],
   "source": [
    "Q3. In what situations is nominal encoding preferred over one-hot encoding? Provide a practical example."
   ]
  },
  {
   "cell_type": "code",
   "execution_count": null,
   "id": "baed8886-4160-4fe8-be1d-8eca2980c671",
   "metadata": {},
   "outputs": [],
   "source": [
    "Nominal encoding may be preferred over one-hot encoding in certain situations where the number of categories is very large, or when there are only a few observations for each category.\n",
    "This is because one-hot encoding can result in a very large number of columns, which can lead to issues with overfitting and computational complexity.\n",
    "\n",
    "\n",
    "ex:  One practical example where nominal encoding may be preferred over one-hot encoding is in natural language processing (NLP) applications, where the number of unique words in a corpus can be very large.\n",
    "In this case, one-hot encoding would result in a sparse matrix with many columns, which can be computationally expensive to process.\n",
    "Nominal encoding can be a more efficient way to encode the words in the corpus as integers, without requiring a separate column for each unique word."
   ]
  },
  {
   "cell_type": "code",
   "execution_count": null,
   "id": "d2953eed-a39d-439b-a1e0-5130f0805e75",
   "metadata": {},
   "outputs": [],
   "source": [
    "Q4. Suppose you have a dataset containing categorical data with 5 unique values. Which encoding\n",
    "technique would you use to transform this data into a format suitable for machine learning algorithms?\n",
    "Explain why you made this choice."
   ]
  },
  {
   "cell_type": "code",
   "execution_count": null,
   "id": "70f846bc-be50-4f04-aa81-1695bd725db7",
   "metadata": {},
   "outputs": [],
   "source": [
    "OneHotEncoding\n",
    " With one-hot encoding, each unique value in the categorical feature is transformed into a new binary column, with a value of 1 indicating that the value is present and a value of 0 indicating that it is not.\n",
    "In this case, since there are only 5 unique values, the resulting number of columns after one-hot encoding would be relatively small and manageable."
   ]
  },
  {
   "cell_type": "code",
   "execution_count": null,
   "id": "d8312cf9-1db8-4d3e-a072-5642932aa67d",
   "metadata": {},
   "outputs": [],
   "source": [
    "Q5. In a machine learning project, you have a dataset with 1000 rows and 5 columns. Two of the columns\n",
    "are categorical, and the remaining three columns are numerical. If you were to use nominal encoding to\n",
    "transform the categorical data, how many new columns would be created? Show your calculations."
   ]
  },
  {
   "cell_type": "code",
   "execution_count": null,
   "id": "482a4720-ff02-4f27-8d25-3b79429dd9d1",
   "metadata": {},
   "outputs": [],
   "source": [
    "To calculate the number of new columns that would be created, we need to count the number of unique values in each categorical column.\n",
    "Let's assume that the first categorical column has 4 unique values and the second categorical column has 6 unique values.\n",
    "\n",
    "Therefore, the total number of new columns created by nominal encoding in this case would be:\n",
    "\n",
    "4 + 6 = 10"
   ]
  },
  {
   "cell_type": "code",
   "execution_count": null,
   "id": "aab0b60e-2ce3-47e7-ba9c-4cbe6062be47",
   "metadata": {},
   "outputs": [],
   "source": [
    "Q6. You are working with a dataset containing information about different types of animals, including their\n",
    "species, habitat, and diet. Which encoding technique would you use to transform the categorical data into\n",
    "a format suitable for machine learning algorithms? Justify your answer."
   ]
  },
  {
   "cell_type": "code",
   "execution_count": null,
   "id": "02ed359b-52a9-488c-aa82-c478660c7a74",
   "metadata": {},
   "outputs": [],
   "source": [
    "one-hot encoding\n",
    "one-hot encoding would be a good choice for transforming the data into a format suitable for machine learning algorithms.\n",
    "With one-hot encoding, each unique value in the categorical feature is transformed into a new binary column, with a value of 1 indicating that the value is present and a value of 0 indicating that it is not."
   ]
  },
  {
   "cell_type": "code",
   "execution_count": null,
   "id": "1feed7b7-3506-4276-8e93-8b38f214b922",
   "metadata": {},
   "outputs": [],
   "source": [
    "Q7.You are working on a project that involves predicting customer churn for a telecommunications\n",
    "company. You have a dataset with 5 features, including the customer's gender, age, contract type,\n",
    "monthly charges, and tenure. Which encoding technique(s) would you use to transform the categorical\n",
    "data into numerical data? Provide a step-by-step explanation of how you would implement the encoding."
   ]
  },
  {
   "cell_type": "code",
   "execution_count": null,
   "id": "000b9813-15b3-475c-afeb-7d8f41a95008",
   "metadata": {},
   "outputs": [],
   "source": [
    "One-Hot Encoding: One-hot encoding is a technique that creates new binary columns for each unique category in a categorical feature. \n",
    "Each row in the dataset is then assigned a value of 1 in the corresponding binary column if the category is present, and 0 otherwise.\n",
    "Here is how we can implement one-hot encoding for the categorical feature \"gender\":\n",
    "\n",
    "a. Identify the unique categories in the \"gender\" feature, which are \"Male\" and \"Female\".\n",
    "\n",
    "b. Create two new binary columns in the dataset, one for each unique category. The new columns can be named \"Gender_Male\" and \"Gender_Female\".\n",
    "\n",
    "c. For each row in the dataset, assign a value of 1 in the \"Gender_Male\" column if the gender is \"Male\", and a value of 1 in the \"Gender_Female\" column if the gender is \"Female\".\n",
    "Assign a value of 0 in both columns if the gender is missing.\n",
    "\n",
    "d. Drop the original \"gender\" column from the dataset."
   ]
  },
  {
   "cell_type": "code",
   "execution_count": null,
   "id": "23b64d62-49dd-4c15-a0d8-6ce20c80f152",
   "metadata": {},
   "outputs": [],
   "source": []
  },
  {
   "cell_type": "code",
   "execution_count": null,
   "id": "de07f2eb-307b-49f1-855a-774bf5ee922e",
   "metadata": {},
   "outputs": [],
   "source": []
  },
  {
   "cell_type": "code",
   "execution_count": null,
   "id": "8c5de112-6632-461d-a45a-8ec433bb1bcd",
   "metadata": {},
   "outputs": [],
   "source": []
  },
  {
   "cell_type": "code",
   "execution_count": null,
   "id": "d69f2833-1389-499b-9a09-d547145302b5",
   "metadata": {},
   "outputs": [],
   "source": []
  },
  {
   "cell_type": "code",
   "execution_count": null,
   "id": "5b2561ed-6980-4b40-94ed-78e35926bdb3",
   "metadata": {},
   "outputs": [],
   "source": []
  },
  {
   "cell_type": "code",
   "execution_count": null,
   "id": "ef913ce6-c2e8-4630-a47c-bb0be2507da6",
   "metadata": {},
   "outputs": [],
   "source": []
  },
  {
   "cell_type": "code",
   "execution_count": null,
   "id": "cd2ba8b3-4c53-4953-b1d1-3eee7b2f4dd5",
   "metadata": {},
   "outputs": [],
   "source": []
  },
  {
   "cell_type": "code",
   "execution_count": null,
   "id": "9dab777c-2fe3-413b-983e-763ee09aa5be",
   "metadata": {},
   "outputs": [],
   "source": []
  },
  {
   "cell_type": "code",
   "execution_count": null,
   "id": "1aa512f9-c07e-4909-b7d8-d2b786b43c33",
   "metadata": {},
   "outputs": [],
   "source": []
  },
  {
   "cell_type": "code",
   "execution_count": null,
   "id": "d1a6c146-304d-45d7-9c3b-e2f12b3152f4",
   "metadata": {},
   "outputs": [],
   "source": []
  },
  {
   "cell_type": "code",
   "execution_count": null,
   "id": "288bdeef-49c8-403d-a1e1-3b387a7a1c86",
   "metadata": {},
   "outputs": [],
   "source": []
  },
  {
   "cell_type": "code",
   "execution_count": null,
   "id": "23a76ee0-b7fc-4f8a-8eda-7efcb0e0c114",
   "metadata": {},
   "outputs": [],
   "source": []
  },
  {
   "cell_type": "code",
   "execution_count": null,
   "id": "27bb9d14-cdb1-48b9-a9ba-343671991713",
   "metadata": {},
   "outputs": [],
   "source": []
  },
  {
   "cell_type": "code",
   "execution_count": null,
   "id": "3356f55e-6a78-4ccf-b95a-02e27a0a9753",
   "metadata": {},
   "outputs": [],
   "source": []
  }
 ],
 "metadata": {
  "kernelspec": {
   "display_name": "Python 3 (ipykernel)",
   "language": "python",
   "name": "python3"
  },
  "language_info": {
   "codemirror_mode": {
    "name": "ipython",
    "version": 3
   },
   "file_extension": ".py",
   "mimetype": "text/x-python",
   "name": "python",
   "nbconvert_exporter": "python",
   "pygments_lexer": "ipython3",
   "version": "3.10.8"
  }
 },
 "nbformat": 4,
 "nbformat_minor": 5
}
