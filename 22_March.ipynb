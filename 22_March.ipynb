{
 "cells": [
  {
   "cell_type": "code",
   "execution_count": null,
   "id": "96c23a65-1c41-49b3-8821-44fc9fe0aab6",
   "metadata": {},
   "outputs": [],
   "source": [
    "Q1. Pearson correlation coefficient is a measure of the linear relationship between two variables. Suppose\n",
    "you have collected data on the amount of time students spend studying for an exam and their final exam\n",
    "scores. Calculate the Pearson correlation coefficient between these two variables and interpret the result."
   ]
  },
  {
   "cell_type": "code",
   "execution_count": 1,
   "id": "1838c635-adec-4ac1-b8ab-a46e5596997e",
   "metadata": {},
   "outputs": [],
   "source": [
    "import pandas as pd\n",
    "import numpy as np"
   ]
  },
  {
   "cell_type": "code",
   "execution_count": 9,
   "id": "224191bd-1f58-4500-baba-2d10d380efc3",
   "metadata": {},
   "outputs": [],
   "source": [
    "df =pd.DataFrame({ 'Studying_Time': [2,3,1,5,3,2],\n",
    "              'Exam_Scores': [88,100,40,95,90,98]\n",
    "\n",
    "})"
   ]
  },
  {
   "cell_type": "code",
   "execution_count": 10,
   "id": "ed7e04f1-da59-4a51-a9f5-e9abb5565f8b",
   "metadata": {},
   "outputs": [
    {
     "data": {
      "text/html": [
       "<div>\n",
       "<style scoped>\n",
       "    .dataframe tbody tr th:only-of-type {\n",
       "        vertical-align: middle;\n",
       "    }\n",
       "\n",
       "    .dataframe tbody tr th {\n",
       "        vertical-align: top;\n",
       "    }\n",
       "\n",
       "    .dataframe thead th {\n",
       "        text-align: right;\n",
       "    }\n",
       "</style>\n",
       "<table border=\"1\" class=\"dataframe\">\n",
       "  <thead>\n",
       "    <tr style=\"text-align: right;\">\n",
       "      <th></th>\n",
       "      <th>Studying_Time</th>\n",
       "      <th>Exam_Scores</th>\n",
       "    </tr>\n",
       "  </thead>\n",
       "  <tbody>\n",
       "    <tr>\n",
       "      <th>Studying_Time</th>\n",
       "      <td>1.866667</td>\n",
       "      <td>18.866667</td>\n",
       "    </tr>\n",
       "    <tr>\n",
       "      <th>Exam_Scores</th>\n",
       "      <td>18.866667</td>\n",
       "      <td>510.566667</td>\n",
       "    </tr>\n",
       "  </tbody>\n",
       "</table>\n",
       "</div>"
      ],
      "text/plain": [
       "               Studying_Time  Exam_Scores\n",
       "Studying_Time       1.866667    18.866667\n",
       "Exam_Scores        18.866667   510.566667"
      ]
     },
     "execution_count": 10,
     "metadata": {},
     "output_type": "execute_result"
    }
   ],
   "source": [
    "df.cov()"
   ]
  },
  {
   "cell_type": "code",
   "execution_count": 11,
   "id": "ced6e5cd-5e74-4ed9-858c-1e9084516860",
   "metadata": {},
   "outputs": [
    {
     "data": {
      "text/html": [
       "<div>\n",
       "<style scoped>\n",
       "    .dataframe tbody tr th:only-of-type {\n",
       "        vertical-align: middle;\n",
       "    }\n",
       "\n",
       "    .dataframe tbody tr th {\n",
       "        vertical-align: top;\n",
       "    }\n",
       "\n",
       "    .dataframe thead th {\n",
       "        text-align: right;\n",
       "    }\n",
       "</style>\n",
       "<table border=\"1\" class=\"dataframe\">\n",
       "  <thead>\n",
       "    <tr style=\"text-align: right;\">\n",
       "      <th></th>\n",
       "      <th>Studying_Time</th>\n",
       "      <th>Exam_Scores</th>\n",
       "    </tr>\n",
       "  </thead>\n",
       "  <tbody>\n",
       "    <tr>\n",
       "      <th>Studying_Time</th>\n",
       "      <td>1.000000</td>\n",
       "      <td>0.611133</td>\n",
       "    </tr>\n",
       "    <tr>\n",
       "      <th>Exam_Scores</th>\n",
       "      <td>0.611133</td>\n",
       "      <td>1.000000</td>\n",
       "    </tr>\n",
       "  </tbody>\n",
       "</table>\n",
       "</div>"
      ],
      "text/plain": [
       "               Studying_Time  Exam_Scores\n",
       "Studying_Time       1.000000     0.611133\n",
       "Exam_Scores         0.611133     1.000000"
      ]
     },
     "execution_count": 11,
     "metadata": {},
     "output_type": "execute_result"
    }
   ],
   "source": [
    "df.corr(method='pearson')"
   ]
  },
  {
   "cell_type": "code",
   "execution_count": null,
   "id": "b875481c-45d8-4472-a38b-cd50bd862f12",
   "metadata": {},
   "outputs": [],
   "source": [
    "Q2. Spearman's rank correlation is a measure of the monotonic relationship between two variables.\n",
    "Suppose you have collected data on the amount of sleep individuals get each night and their overall job\n",
    "satisfaction level on a scale of 1 to 10. Calculate the Spearman's rank correlation between these two\n",
    "variables and interpret the result."
   ]
  },
  {
   "cell_type": "code",
   "execution_count": 13,
   "id": "e823dead-0c96-44a1-b1ca-b2dc6be93c6a",
   "metadata": {},
   "outputs": [],
   "source": [
    "df1 =pd.DataFrame({ 'Sleep': [8,6,9,4,3,10],\n",
    "              'Job_Satisfaction' : [9,7,10,5,4,10]\n",
    "\n",
    "})"
   ]
  },
  {
   "cell_type": "code",
   "execution_count": 14,
   "id": "38f4b15b-a622-4d9b-8cab-b96de73dec7f",
   "metadata": {},
   "outputs": [
    {
     "data": {
      "text/html": [
       "<div>\n",
       "<style scoped>\n",
       "    .dataframe tbody tr th:only-of-type {\n",
       "        vertical-align: middle;\n",
       "    }\n",
       "\n",
       "    .dataframe tbody tr th {\n",
       "        vertical-align: top;\n",
       "    }\n",
       "\n",
       "    .dataframe thead th {\n",
       "        text-align: right;\n",
       "    }\n",
       "</style>\n",
       "<table border=\"1\" class=\"dataframe\">\n",
       "  <thead>\n",
       "    <tr style=\"text-align: right;\">\n",
       "      <th></th>\n",
       "      <th>Sleep</th>\n",
       "      <th>Job_Satisfaction</th>\n",
       "    </tr>\n",
       "  </thead>\n",
       "  <tbody>\n",
       "    <tr>\n",
       "      <th>Sleep</th>\n",
       "      <td>7.866667</td>\n",
       "      <td>7.2</td>\n",
       "    </tr>\n",
       "    <tr>\n",
       "      <th>Job_Satisfaction</th>\n",
       "      <td>7.200000</td>\n",
       "      <td>6.7</td>\n",
       "    </tr>\n",
       "  </tbody>\n",
       "</table>\n",
       "</div>"
      ],
      "text/plain": [
       "                     Sleep  Job_Satisfaction\n",
       "Sleep             7.866667               7.2\n",
       "Job_Satisfaction  7.200000               6.7"
      ]
     },
     "execution_count": 14,
     "metadata": {},
     "output_type": "execute_result"
    }
   ],
   "source": [
    "df1.cov()"
   ]
  },
  {
   "cell_type": "code",
   "execution_count": 15,
   "id": "ebf73dfc-96b2-4d63-9126-25d5b40a3fb6",
   "metadata": {},
   "outputs": [
    {
     "data": {
      "text/html": [
       "<div>\n",
       "<style scoped>\n",
       "    .dataframe tbody tr th:only-of-type {\n",
       "        vertical-align: middle;\n",
       "    }\n",
       "\n",
       "    .dataframe tbody tr th {\n",
       "        vertical-align: top;\n",
       "    }\n",
       "\n",
       "    .dataframe thead th {\n",
       "        text-align: right;\n",
       "    }\n",
       "</style>\n",
       "<table border=\"1\" class=\"dataframe\">\n",
       "  <thead>\n",
       "    <tr style=\"text-align: right;\">\n",
       "      <th></th>\n",
       "      <th>Studying_Time</th>\n",
       "      <th>Exam_Scores</th>\n",
       "    </tr>\n",
       "  </thead>\n",
       "  <tbody>\n",
       "    <tr>\n",
       "      <th>Studying_Time</th>\n",
       "      <td>1.000000</td>\n",
       "      <td>0.559065</td>\n",
       "    </tr>\n",
       "    <tr>\n",
       "      <th>Exam_Scores</th>\n",
       "      <td>0.559065</td>\n",
       "      <td>1.000000</td>\n",
       "    </tr>\n",
       "  </tbody>\n",
       "</table>\n",
       "</div>"
      ],
      "text/plain": [
       "               Studying_Time  Exam_Scores\n",
       "Studying_Time       1.000000     0.559065\n",
       "Exam_Scores         0.559065     1.000000"
      ]
     },
     "execution_count": 15,
     "metadata": {},
     "output_type": "execute_result"
    }
   ],
   "source": [
    "df.corr(method='spearman')"
   ]
  },
  {
   "cell_type": "code",
   "execution_count": null,
   "id": "4f415f20-9d11-466d-b55e-08274a9728ec",
   "metadata": {},
   "outputs": [],
   "source": [
    "Q3. Suppose you are conducting a study to examine the relationship between the number of hours of\n",
    "exercise per week and body mass index (BMI) in a sample of adults. You collected data on both variables\n",
    "for 50 participants. Calculate the Pearson correlation coefficient and the Spearman's rank correlation\n",
    "between these two variables and compare the results."
   ]
  },
  {
   "cell_type": "code",
   "execution_count": 83,
   "id": "d756e6e0-76e3-4347-8aaa-d432db67963a",
   "metadata": {},
   "outputs": [],
   "source": [
    "hours_exercised = np.random.normal(1,4,50)"
   ]
  },
  {
   "cell_type": "code",
   "execution_count": 84,
   "id": "86b60198-91e1-4346-9441-da12cc9be53c",
   "metadata": {},
   "outputs": [],
   "source": [
    "bmi = np.random.normal(10,25,50)"
   ]
  },
  {
   "cell_type": "code",
   "execution_count": 93,
   "id": "968d7d52-303f-4dcc-b536-ee56e1f3925c",
   "metadata": {},
   "outputs": [],
   "source": [
    "df3=pd.DataFrame({'hours_exercised': hours_exercised,\n",
    "        'bmi': bmi\n",
    "})"
   ]
  },
  {
   "cell_type": "code",
   "execution_count": 94,
   "id": "0a1438a5-db1a-4f02-beef-54b36f57c996",
   "metadata": {},
   "outputs": [
    {
     "data": {
      "text/html": [
       "<div>\n",
       "<style scoped>\n",
       "    .dataframe tbody tr th:only-of-type {\n",
       "        vertical-align: middle;\n",
       "    }\n",
       "\n",
       "    .dataframe tbody tr th {\n",
       "        vertical-align: top;\n",
       "    }\n",
       "\n",
       "    .dataframe thead th {\n",
       "        text-align: right;\n",
       "    }\n",
       "</style>\n",
       "<table border=\"1\" class=\"dataframe\">\n",
       "  <thead>\n",
       "    <tr style=\"text-align: right;\">\n",
       "      <th></th>\n",
       "      <th>hours_exercised</th>\n",
       "      <th>bmi</th>\n",
       "    </tr>\n",
       "  </thead>\n",
       "  <tbody>\n",
       "    <tr>\n",
       "      <th>hours_exercised</th>\n",
       "      <td>1.000000</td>\n",
       "      <td>0.227422</td>\n",
       "    </tr>\n",
       "    <tr>\n",
       "      <th>bmi</th>\n",
       "      <td>0.227422</td>\n",
       "      <td>1.000000</td>\n",
       "    </tr>\n",
       "  </tbody>\n",
       "</table>\n",
       "</div>"
      ],
      "text/plain": [
       "                 hours_exercised       bmi\n",
       "hours_exercised         1.000000  0.227422\n",
       "bmi                     0.227422  1.000000"
      ]
     },
     "execution_count": 94,
     "metadata": {},
     "output_type": "execute_result"
    }
   ],
   "source": [
    "df3.corr('pearson')"
   ]
  },
  {
   "cell_type": "code",
   "execution_count": 95,
   "id": "5e174418-3d0a-4312-8ea4-2fd55101f5b7",
   "metadata": {},
   "outputs": [
    {
     "data": {
      "text/html": [
       "<div>\n",
       "<style scoped>\n",
       "    .dataframe tbody tr th:only-of-type {\n",
       "        vertical-align: middle;\n",
       "    }\n",
       "\n",
       "    .dataframe tbody tr th {\n",
       "        vertical-align: top;\n",
       "    }\n",
       "\n",
       "    .dataframe thead th {\n",
       "        text-align: right;\n",
       "    }\n",
       "</style>\n",
       "<table border=\"1\" class=\"dataframe\">\n",
       "  <thead>\n",
       "    <tr style=\"text-align: right;\">\n",
       "      <th></th>\n",
       "      <th>hours_exercised</th>\n",
       "      <th>bmi</th>\n",
       "    </tr>\n",
       "  </thead>\n",
       "  <tbody>\n",
       "    <tr>\n",
       "      <th>hours_exercised</th>\n",
       "      <td>1.000000</td>\n",
       "      <td>0.210852</td>\n",
       "    </tr>\n",
       "    <tr>\n",
       "      <th>bmi</th>\n",
       "      <td>0.210852</td>\n",
       "      <td>1.000000</td>\n",
       "    </tr>\n",
       "  </tbody>\n",
       "</table>\n",
       "</div>"
      ],
      "text/plain": [
       "                 hours_exercised       bmi\n",
       "hours_exercised         1.000000  0.210852\n",
       "bmi                     0.210852  1.000000"
      ]
     },
     "execution_count": 95,
     "metadata": {},
     "output_type": "execute_result"
    }
   ],
   "source": [
    "df3.corr('spearman')"
   ]
  },
  {
   "cell_type": "code",
   "execution_count": null,
   "id": "dd2496b6-1c94-41f1-a8c8-4cd9a048a600",
   "metadata": {},
   "outputs": [],
   "source": [
    "Q4. A researcher is interested in examining the relationship between the number of hours individuals\n",
    "spend watching television per day and their level of physical activity. The researcher collected data on\n",
    "both variables from a sample of 50 participants. Calculate the Pearson correlation coefficient between\n",
    "these two variables."
   ]
  },
  {
   "cell_type": "code",
   "execution_count": 98,
   "id": "55bdfa96-5973-4e11-9232-1a39e78709a3",
   "metadata": {},
   "outputs": [],
   "source": [
    "hours_watc = np.random.normal(1,4,50)"
   ]
  },
  {
   "cell_type": "code",
   "execution_count": 99,
   "id": "891a9d86-f504-4a1d-a1b2-c806f8254c78",
   "metadata": {},
   "outputs": [],
   "source": [
    " level_of_physical_activity = np.random.normal(1,9,50)"
   ]
  },
  {
   "cell_type": "code",
   "execution_count": 101,
   "id": "8576348c-59bb-44e7-8af4-bdc35410263f",
   "metadata": {},
   "outputs": [],
   "source": [
    "df5 = pd.DataFrame({'hours_watc': hours_watc,\n",
    "              'level_of_physical_activity':level_of_physical_activity})"
   ]
  },
  {
   "cell_type": "code",
   "execution_count": 103,
   "id": "e7cf5cae-83a7-4c1f-abb7-3ca3b02a7e86",
   "metadata": {},
   "outputs": [
    {
     "data": {
      "text/html": [
       "<div>\n",
       "<style scoped>\n",
       "    .dataframe tbody tr th:only-of-type {\n",
       "        vertical-align: middle;\n",
       "    }\n",
       "\n",
       "    .dataframe tbody tr th {\n",
       "        vertical-align: top;\n",
       "    }\n",
       "\n",
       "    .dataframe thead th {\n",
       "        text-align: right;\n",
       "    }\n",
       "</style>\n",
       "<table border=\"1\" class=\"dataframe\">\n",
       "  <thead>\n",
       "    <tr style=\"text-align: right;\">\n",
       "      <th></th>\n",
       "      <th>hours_watc</th>\n",
       "      <th>level_of_physical_activity</th>\n",
       "    </tr>\n",
       "  </thead>\n",
       "  <tbody>\n",
       "    <tr>\n",
       "      <th>hours_watc</th>\n",
       "      <td>1.000000</td>\n",
       "      <td>0.231588</td>\n",
       "    </tr>\n",
       "    <tr>\n",
       "      <th>level_of_physical_activity</th>\n",
       "      <td>0.231588</td>\n",
       "      <td>1.000000</td>\n",
       "    </tr>\n",
       "  </tbody>\n",
       "</table>\n",
       "</div>"
      ],
      "text/plain": [
       "                            hours_watc  level_of_physical_activity\n",
       "hours_watc                    1.000000                    0.231588\n",
       "level_of_physical_activity    0.231588                    1.000000"
      ]
     },
     "execution_count": 103,
     "metadata": {},
     "output_type": "execute_result"
    }
   ],
   "source": [
    "df5.corr('pearson')"
   ]
  },
  {
   "cell_type": "code",
   "execution_count": null,
   "id": "66b6d820-50f0-489d-a2ba-f3d2c0d2750a",
   "metadata": {},
   "outputs": [],
   "source": [
    "Q5. A survey was conducted to examine the relationship between age and preference for a particular\n",
    "brand of soft drink. The survey results are shown below:"
   ]
  },
  {
   "cell_type": "code",
   "execution_count": 3,
   "id": "f0ede99b-e17c-4654-ab2c-42366400214b",
   "metadata": {},
   "outputs": [],
   "source": [
    "Age = [25, \n",
    "42, \n",
    "37,\n",
    "19,\n",
    "31,\n",
    "28]\n",
    "Soft_drink = ['Coke','Pepsi','Mountain dew','Coke','Pepsi','Coke']"
   ]
  },
  {
   "cell_type": "code",
   "execution_count": 4,
   "id": "bbb29382-fc20-4ad5-b907-8801b268b988",
   "metadata": {},
   "outputs": [],
   "source": [
    "df6 = pd.DataFrame({'AGE':Age,\n",
    "                   'SOFT_DRINKS':Soft_drink})"
   ]
  },
  {
   "cell_type": "code",
   "execution_count": 5,
   "id": "c9de1cdf-6a33-4237-9fd8-634afd0254ba",
   "metadata": {},
   "outputs": [
    {
     "name": "stderr",
     "output_type": "stream",
     "text": [
      "/tmp/ipykernel_70/2921722195.py:1: FutureWarning: The default value of numeric_only in DataFrame.cov is deprecated. In a future version, it will default to False. Select only valid columns or specify the value of numeric_only to silence this warning.\n",
      "  df6.cov()\n"
     ]
    },
    {
     "data": {
      "text/html": [
       "<div>\n",
       "<style scoped>\n",
       "    .dataframe tbody tr th:only-of-type {\n",
       "        vertical-align: middle;\n",
       "    }\n",
       "\n",
       "    .dataframe tbody tr th {\n",
       "        vertical-align: top;\n",
       "    }\n",
       "\n",
       "    .dataframe thead th {\n",
       "        text-align: right;\n",
       "    }\n",
       "</style>\n",
       "<table border=\"1\" class=\"dataframe\">\n",
       "  <thead>\n",
       "    <tr style=\"text-align: right;\">\n",
       "      <th></th>\n",
       "      <th>AGE</th>\n",
       "    </tr>\n",
       "  </thead>\n",
       "  <tbody>\n",
       "    <tr>\n",
       "      <th>AGE</th>\n",
       "      <td>68.666667</td>\n",
       "    </tr>\n",
       "  </tbody>\n",
       "</table>\n",
       "</div>"
      ],
      "text/plain": [
       "           AGE\n",
       "AGE  68.666667"
      ]
     },
     "execution_count": 5,
     "metadata": {},
     "output_type": "execute_result"
    }
   ],
   "source": [
    "df6.cov()"
   ]
  },
  {
   "cell_type": "code",
   "execution_count": 6,
   "id": "55c85cd5-8f83-4a02-a41d-f9a5b7db9410",
   "metadata": {},
   "outputs": [
    {
     "name": "stderr",
     "output_type": "stream",
     "text": [
      "/tmp/ipykernel_70/301754112.py:1: FutureWarning: The default value of numeric_only in DataFrame.corr is deprecated. In a future version, it will default to False. Select only valid columns or specify the value of numeric_only to silence this warning.\n",
      "  df6.corr('pearson')\n"
     ]
    },
    {
     "data": {
      "text/html": [
       "<div>\n",
       "<style scoped>\n",
       "    .dataframe tbody tr th:only-of-type {\n",
       "        vertical-align: middle;\n",
       "    }\n",
       "\n",
       "    .dataframe tbody tr th {\n",
       "        vertical-align: top;\n",
       "    }\n",
       "\n",
       "    .dataframe thead th {\n",
       "        text-align: right;\n",
       "    }\n",
       "</style>\n",
       "<table border=\"1\" class=\"dataframe\">\n",
       "  <thead>\n",
       "    <tr style=\"text-align: right;\">\n",
       "      <th></th>\n",
       "      <th>AGE</th>\n",
       "    </tr>\n",
       "  </thead>\n",
       "  <tbody>\n",
       "    <tr>\n",
       "      <th>AGE</th>\n",
       "      <td>1.0</td>\n",
       "    </tr>\n",
       "  </tbody>\n",
       "</table>\n",
       "</div>"
      ],
      "text/plain": [
       "     AGE\n",
       "AGE  1.0"
      ]
     },
     "execution_count": 6,
     "metadata": {},
     "output_type": "execute_result"
    }
   ],
   "source": [
    "df6.corr('pearson')"
   ]
  },
  {
   "cell_type": "code",
   "execution_count": null,
   "id": "d2f1332a-1279-468d-b5e9-3c4c2493e7b7",
   "metadata": {},
   "outputs": [],
   "source": [
    "Q6. A company is interested in examining the relationship between the number of sales calls made per day\n",
    "and the number of sales made per week. The company collected data on both variables from a sample of\n",
    "30 sales representatives. Calculate the Pearson correlation coefficient between these two variables."
   ]
  },
  {
   "cell_type": "code",
   "execution_count": 13,
   "id": "3fe55586-9977-4df0-914e-df681d331d3e",
   "metadata": {},
   "outputs": [],
   "source": [
    " sales_calls_made_per_day = np.random.randint(1,30,30)"
   ]
  },
  {
   "cell_type": "code",
   "execution_count": 15,
   "id": "f8a105db-79a6-4bf9-8a86-efe839c8cda9",
   "metadata": {},
   "outputs": [],
   "source": [
    "sales_calls_made_per_week = np.random.randint(1,4,30)"
   ]
  },
  {
   "cell_type": "code",
   "execution_count": 18,
   "id": "9f416c8d-cd58-4bdf-b228-1a1631398320",
   "metadata": {},
   "outputs": [],
   "source": [
    "df7 = pd.DataFrame({'sales_calls_made_per_day' : sales_calls_made_per_day,\n",
    "             'sales_calls_made_per_week': sales_calls_made_per_week})"
   ]
  },
  {
   "cell_type": "code",
   "execution_count": 19,
   "id": "987505aa-d0d3-4b71-94a0-fececa9e3498",
   "metadata": {},
   "outputs": [
    {
     "data": {
      "text/html": [
       "<div>\n",
       "<style scoped>\n",
       "    .dataframe tbody tr th:only-of-type {\n",
       "        vertical-align: middle;\n",
       "    }\n",
       "\n",
       "    .dataframe tbody tr th {\n",
       "        vertical-align: top;\n",
       "    }\n",
       "\n",
       "    .dataframe thead th {\n",
       "        text-align: right;\n",
       "    }\n",
       "</style>\n",
       "<table border=\"1\" class=\"dataframe\">\n",
       "  <thead>\n",
       "    <tr style=\"text-align: right;\">\n",
       "      <th></th>\n",
       "      <th>sales_calls_made_per_day</th>\n",
       "      <th>sales_calls_made_per_week</th>\n",
       "    </tr>\n",
       "  </thead>\n",
       "  <tbody>\n",
       "    <tr>\n",
       "      <th>sales_calls_made_per_day</th>\n",
       "      <td>1.000000</td>\n",
       "      <td>-0.376585</td>\n",
       "    </tr>\n",
       "    <tr>\n",
       "      <th>sales_calls_made_per_week</th>\n",
       "      <td>-0.376585</td>\n",
       "      <td>1.000000</td>\n",
       "    </tr>\n",
       "  </tbody>\n",
       "</table>\n",
       "</div>"
      ],
      "text/plain": [
       "                           sales_calls_made_per_day  sales_calls_made_per_week\n",
       "sales_calls_made_per_day                   1.000000                  -0.376585\n",
       "sales_calls_made_per_week                 -0.376585                   1.000000"
      ]
     },
     "execution_count": 19,
     "metadata": {},
     "output_type": "execute_result"
    }
   ],
   "source": [
    "df7.corr('pearson')"
   ]
  },
  {
   "cell_type": "code",
   "execution_count": null,
   "id": "8efac2f5-5eef-4cf9-820b-57a0a54649b3",
   "metadata": {},
   "outputs": [],
   "source": []
  },
  {
   "cell_type": "code",
   "execution_count": null,
   "id": "e6192539-2a44-4fc2-9db1-ecf39b5d91ca",
   "metadata": {},
   "outputs": [],
   "source": []
  },
  {
   "cell_type": "code",
   "execution_count": null,
   "id": "4f66f57f-dcad-4b95-a09f-32f66b48bb8c",
   "metadata": {},
   "outputs": [],
   "source": []
  }
 ],
 "metadata": {
  "kernelspec": {
   "display_name": "Python 3 (ipykernel)",
   "language": "python",
   "name": "python3"
  },
  "language_info": {
   "codemirror_mode": {
    "name": "ipython",
    "version": 3
   },
   "file_extension": ".py",
   "mimetype": "text/x-python",
   "name": "python",
   "nbconvert_exporter": "python",
   "pygments_lexer": "ipython3",
   "version": "3.10.8"
  }
 },
 "nbformat": 4,
 "nbformat_minor": 5
}
